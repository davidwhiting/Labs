{
 "cells": [
  {
   "cell_type": "markdown",
   "metadata": {},
   "source": [
    "# _Foundations of Applied Mathematics_ Labs: Volume 1\n",
    "\n",
    "# 1. Linear Transformations"
   ]
  },
  {
   "cell_type": "code",
   "execution_count": 1,
   "metadata": {},
   "outputs": [],
   "source": [
    "import numpy as np\n",
    "from matplotlib import pyplot as plt"
   ]
  },
  {
   "cell_type": "code",
   "execution_count": 2,
   "metadata": {},
   "outputs": [
    {
     "data": {
      "text/plain": [
       "[<matplotlib.lines.Line2D at 0x1138d85c0>]"
      ]
     },
     "execution_count": 2,
     "metadata": {},
     "output_type": "execute_result"
    },
    {
     "data": {
      "image/png": "[encoded data removed]",
      "text/plain": [
       "<matplotlib.figure.Figure at 0x10deb8390>"
      ]
     },
     "metadata": {},
     "output_type": "display_data"
    }
   ],
   "source": [
    "# Load the array from the .npy file.\n",
    "data = np.load(\"data/horse.npy\")\n",
    "\n",
    "# Plot the x row against the y row with black pixels.\n",
    "plt.plot(data[0], data[1], 'k,')"
   ]
  },
  {
   "cell_type": "code",
   "execution_count": 3,
   "metadata": {},
   "outputs": [
    {
     "data": {
      "image/png": "[encoded data removed]",
      "text/plain": [
       "<matplotlib.figure.Figure at 0x1138ae7b8>"
      ]
     },
     "metadata": {},
     "output_type": "display_data"
    }
   ],
   "source": [
    "# Set the window limits to [-1, 1] by [-1, 1] and make the window square.\n",
    "plt.axis([-1,1,-1,1])\n",
    "plt.gca().set_aspect(\"equal\")\n",
    "plt.show()"
   ]
  },
  {
   "cell_type": "markdown",
   "metadata": {},
   "source": [
    "_This didn't seem to work as it should?_"
   ]
  },
  {
   "cell_type": "markdown",
   "metadata": {},
   "source": [
    "**Problem 1.** Write a function for each type of linear transformation (_stretch_, _shear_, _reflection_, _rotation_, _composition_). Each function should accept an array to transform and the scalars that define the transformation ($a$ and $b$ for stretch, shear, and reflection, and $θ$ for rotation). Construct the matrix representation, left multiply it with the input array, and return the transformed array.\n",
    "\n",
    "To test these functions, write a function to plot the original points in `horse.npy` together with the transformed points in subplots for a side-by-side comparison. Compare your results to Figure 1.1."
   ]
  },
  {
   "cell_type": "code",
   "execution_count": null,
   "metadata": {},
   "outputs": [],
   "source": []
  },
  {
   "cell_type": "markdown",
   "metadata": {},
   "source": [
    "**Problem 2.** The moon orbits the earth while the earth orbits the sun. Assuming circular orbits, we can compute the trajectories of both the earth and the moon using only linear and affine transformations.\n",
    "\n",
    "Assume an orientation where both the earth and moon travel counterclockwise, with the sun at the origin. Let $p_e(t)$ and $p_m(t)$ be the positions of the earth and the moon at time $t$, respectively, and let $ω_e$ and $ω_m$ be each celestial body’s angular momentum. For a particular time $t$, we calculate $p_e(t)$ and $p_m(t)$ with the following steps:\n",
    "\n",
    "1. Compute $p_e(t)$ by rotating the initial vector $p_e(0)$ counterclockwise about the origin by $tω_e$ radians.\n",
    "\n",
    "2. Calculate the position of the moon relative to the earth at time $t$ by rotating the vector $p_m(0) − p_e(0)$ counterclockwise about the origin by $tω_m$ radians.\n",
    "\n",
    "3. To compute $p_m(t)$, translate the vector resulting from the previous step by $p_e(t)$.\n",
    "\n",
    "Write a function that accepts a final time $T$ and the angular momenta $ω_e$ and $ω_m$. Assuming initial positions $p_e(0) = (10, 0)$ and $p_m(0) = (11, 0)$, plot $p_e(t)$ and $p_m(t)$ over the time interval $t ∈ [0, T]$.\n",
    "\n",
    "The moon travels around the earth approximately 13 times every year. With $T = 3π/2$, $ω_e = 1$, and $ω_m = 13$, your plot should resemble the following figure (fix the aspect ratio with `ax.set_aspect(\"equal\")`)."
   ]
  },
  {
   "cell_type": "markdown",
   "metadata": {},
   "source": [
    "### Timing Code\n",
    "\n",
    "The following code is useful for measuring how long it takes for code to run:"
   ]
  },
  {
   "cell_type": "code",
   "execution_count": 5,
   "metadata": {},
   "outputs": [
    {
     "data": {
      "text/plain": [
       "0.2889101505279541"
      ]
     },
     "execution_count": 5,
     "metadata": {},
     "output_type": "execute_result"
    }
   ],
   "source": [
    "import time\n",
    "\n",
    "def for_loop():\n",
    "    \"\"\"Go through ten million iterations of nothing.\"\"\"\n",
    "    for _ in range(int(1e7)):\n",
    "        pass\n",
    "\n",
    "def time_for_loop():\n",
    "    \"\"\"Time for_loop() with time.time().\"\"\"\n",
    "    start = time.time()             # Clock the starting time.\n",
    "    for_loop()\n",
    "    return time.time() - start      # Return the elapsed time.\n",
    "\n",
    "time_for_loop()"
   ]
  },
  {
   "cell_type": "markdown",
   "metadata": {},
   "source": [
    "The `%timeit` command is used in iPython for timing a single line of code."
   ]
  },
  {
   "cell_type": "code",
   "execution_count": 6,
   "metadata": {},
   "outputs": [
    {
     "name": "stdout",
     "output_type": "stream",
     "text": [
      "290 ms ± 10 ms per loop (mean ± std. dev. of 7 runs, 1 loop each)\n"
     ]
    }
   ],
   "source": [
    "%timeit for_loop()"
   ]
  },
  {
   "cell_type": "markdown",
   "metadata": {},
   "source": [
    "#### Timing an Algorithm"
   ]
  },
  {
   "cell_type": "code",
   "execution_count": 7,
   "metadata": {},
   "outputs": [],
   "source": [
    "from random import random\n",
    "\n",
    "def random_vector(n):       # Equivalent to np.random.random(n).tolist()\n",
    "    \"\"\"Generate a random vector of length n as a list.\"\"\"\n",
    "    return [random() for i in range(n)]\n",
    "\n",
    "def random_matrix(n):       # Equivalent to np.random.random((n,n)).tolist()\n",
    "    \"\"\"Generate a random nxn matrix as a list of lists.\"\"\"\n",
    "    return [[random() for j in range(n)] for i in range(n)]"
   ]
  },
  {
   "cell_type": "code",
   "execution_count": 8,
   "metadata": {},
   "outputs": [
    {
     "data": {
      "image/png": "[encoded data removed]",
      "text/plain": [
       "<matplotlib.figure.Figure at 0x113c430f0>"
      ]
     },
     "metadata": {},
     "output_type": "display_data"
    }
   ],
   "source": [
    "domain = 2**np.arange(1,13)\n",
    "times = []\n",
    "for n in domain:\n",
    "    start = time.time()\n",
    "    random_matrix(n)\n",
    "    times.append(time.time() - start)\n",
    "\n",
    "plt.plot(domain, times, 'g.-', linewidth=2, markersize=15)\n",
    "plt.xlabel(\"n\", fontsize=14)\n",
    "plt.ylabel(\"Seconds\", fontsize=14)\n",
    "plt.show()"
   ]
  },
  {
   "cell_type": "markdown",
   "metadata": {},
   "source": [
    "# 2. Linear Systems\n"
   ]
  },
  {
   "cell_type": "markdown",
   "metadata": {},
   "source": [
    "### Gaussian Elimination"
   ]
  },
  {
   "cell_type": "code",
   "execution_count": 10,
   "metadata": {},
   "outputs": [
    {
     "name": "stdout",
     "output_type": "stream",
     "text": [
      "[[1. 1. 1. 1.]\n",
      " [0. 3. 1. 2.]\n",
      " [0. 0. 3. 3.]]\n"
     ]
    }
   ],
   "source": [
    "import numpy as np\n",
    "\n",
    "A = np.array([[1, 1, 1, 1],\n",
    "              [1, 4, 2, 3],\n",
    "              [4, 7, 8, 9]], dtype=np.float)\n",
    "\n",
    "# Reduce the 0th column to zeros below the diagonal.\n",
    "A[1,0:] -= (A[1,0] / A[0,0]) * A[0]\n",
    "A[2,0:] -= (A[2,0] / A[0,0]) * A[0]\n",
    "\n",
    "# Reduce the 1st column to zeros below the diagonal.\n",
    "A[2,1:] -= (A[2,1] / A[1,1]) * A[1,1:]\n",
    "print(A)"
   ]
  },
  {
   "cell_type": "markdown",
   "metadata": {},
   "source": [
    "_Gaussian elimination is not numerically stable. The NumPy routines that employ row reduction use several tricks to reduce round-off error._"
   ]
  },
  {
   "cell_type": "markdown",
   "metadata": {},
   "source": [
    "**Problem 1.** Write a function that reduces an arbitrary square matrix $A$ to REF.\n",
    "You may assume that $A$ is invertible and that a $0$ will never appear on the main diagonal (so only use type III row reductions, not type II).\n",
    "Avoid operating on entries that you know will be $0$ before and after a row operation. Use at most two nested loops.\n",
    "\n",
    "Test your function with small test cases that you can check by hand.\n",
    "Consider using `np.random.randint()` to generate a few manageable tests cases."
   ]
  },
  {
   "cell_type": "markdown",
   "metadata": {},
   "source": [
    "**Solution 1.**"
   ]
  },
  {
   "cell_type": "markdown",
   "metadata": {},
   "source": [
    "### LU Decomposition"
   ]
  },
  {
   "cell_type": "markdown",
   "metadata": {},
   "source": [
    "**Problem 2.** Write a function that finds the LU decomposition of a square matrix.\n",
    "You may assume that the decomposition exists and requires no row swaps."
   ]
  },
  {
   "cell_type": "markdown",
   "metadata": {},
   "source": [
    "**Solution 2.**"
   ]
  },
  {
   "cell_type": "markdown",
   "metadata": {},
   "source": [
    "### Forward and Backward Substitution"
   ]
  },
  {
   "cell_type": "markdown",
   "metadata": {},
   "source": [
    "**Problem 3.** Write a function that, given $A$ and $b$, solves the square linear system $Ax = b$. Use the function from Problem 2 to compute $L$ and $U$, then use (2.1) and (2.2) to solve for $y$, then $x$. You may again assume that no row swaps are required ($P = I$ in this case)."
   ]
  },
  {
   "cell_type": "markdown",
   "metadata": {},
   "source": [
    "**Solution 3.**"
   ]
  },
  {
   "cell_type": "markdown",
   "metadata": {},
   "source": [
    "## SciPy"
   ]
  },
  {
   "cell_type": "code",
   "execution_count": 11,
   "metadata": {},
   "outputs": [
    {
     "data": {
      "text/plain": [
       "False"
      ]
     },
     "execution_count": 11,
     "metadata": {},
     "output_type": "execute_result"
    }
   ],
   "source": [
    "import scipy as sp\n",
    "hasattr(sp, \"stats\")            # The stats module isn't loaded yet."
   ]
  },
  {
   "cell_type": "code",
   "execution_count": 12,
   "metadata": {},
   "outputs": [
    {
     "data": {
      "text/plain": [
       "True"
      ]
     },
     "execution_count": 12,
     "metadata": {},
     "output_type": "execute_result"
    }
   ],
   "source": [
    "from scipy import stats         # Import stats explicitly. Access it\n",
    "hasattr(sp, \"stats\")            # with 'stats' or 'sp.stats'."
   ]
  },
  {
   "cell_type": "markdown",
   "metadata": {},
   "source": [
    "### Linear Algebra"
   ]
  },
  {
   "cell_type": "code",
   "execution_count": 13,
   "metadata": {},
   "outputs": [
    {
     "data": {
      "text/plain": [
       "True"
      ]
     },
     "execution_count": 13,
     "metadata": {},
     "output_type": "execute_result"
    }
   ],
   "source": [
    "from scipy import linalg as la\n",
    "\n",
    "# Make a random matrix and a random vector.\n",
    "A = np.random.random((1000,1000))\n",
    "b = np.random.random(1000)\n",
    "\n",
    "# Compute the LU decomposition of A, including pivots.\n",
    "L, P = la.lu_factor(A)\n",
    "\n",
    "# Use the LU decomposition to solve Ax = b.\n",
    "x = la.lu_solve((L,P), b)\n",
    "\n",
    "# Check that the solution is legitimate.\n",
    "np.allclose(A @ x, b)"
   ]
  },
  {
   "cell_type": "markdown",
   "metadata": {},
   "source": [
    "**Problem 4.** Write a function that times different `scipy.linalg` functions for solving square linear systems.\n",
    "\n",
    "For various values of $n$, generate a random $n \\times n$ matrix $A$ and a random $n$-vector $b$ using `np.random.random()`.\n",
    "Time how long it takes to solve the system $Ax = b$ with each of the following approaches:\n",
    "\n",
    "1. Invert $A$ with `la.inv()` and left-multiply the inverse to $b$.\n",
    "1. Use `la.solve()`.\n",
    "1. Use `la.lu_factor()` and `la.lu_solve()` to solve the system with the LU decomposition.\n",
    "1. Use `la.lu_factor()` and `la.lu_solve()`, but only time `la.lu_solve()` (not the time it takes to do the factorization with `la.lu_factor()`).\n",
    "\n",
    "Plot the system size $n$ versus the execution times.\n",
    "Use log scales if needed."
   ]
  },
  {
   "cell_type": "markdown",
   "metadata": {},
   "source": [
    "**Solution 4.**"
   ]
  },
  {
   "cell_type": "markdown",
   "metadata": {},
   "source": [
    "### Sparse Matrices\n",
    "\n",
    "#### Coordinate Format:"
   ]
  },
  {
   "cell_type": "code",
   "execution_count": 14,
   "metadata": {},
   "outputs": [
    {
     "name": "stdout",
     "output_type": "stream",
     "text": [
      "  (0, 0)\t3\n",
      "  (1, 1)\t5\n",
      "  (0, 1)\t2\n"
     ]
    }
   ],
   "source": [
    "from scipy import sparse\n",
    "\n",
    "# Define the rows, columns, and values separately.\n",
    "rows = np.array([0, 1, 0])\n",
    "cols = np.array([0, 1, 1])\n",
    "vals = np.array([3, 5, 2])\n",
    "A = sparse.coo_matrix((vals, (rows,cols)), shape=(3,3))\n",
    "print(A)"
   ]
  },
  {
   "cell_type": "code",
   "execution_count": 15,
   "metadata": {},
   "outputs": [
    {
     "name": "stdout",
     "output_type": "stream",
     "text": [
      "[[3 2 0]\n",
      " [0 5 0]\n",
      " [0 0 0]]\n"
     ]
    }
   ],
   "source": [
    "# The toarray() method casts the sparse matrix as a NumPy array.\n",
    "# Note that this method forfeits all sparsity-related optimizations.\n",
    "print(A.toarray()) "
   ]
  },
  {
   "cell_type": "markdown",
   "metadata": {},
   "source": [
    "#### DOK and LIL Formats:"
   ]
  },
  {
   "cell_type": "code",
   "execution_count": 16,
   "metadata": {},
   "outputs": [
    {
     "name": "stdout",
     "output_type": "stream",
     "text": [
      "[[0. 0. 4. 0. 0. 0.]\n",
      " [0. 0. 0. 9. 9. 9.]]\n"
     ]
    }
   ],
   "source": [
    "B = sparse.lil_matrix((2,6))\n",
    "B[0,2] = 4\n",
    "B[1,3:] = 9\n",
    "\n",
    "print(B.toarray())"
   ]
  },
  {
   "cell_type": "markdown",
   "metadata": {},
   "source": [
    "#### DIA Format:"
   ]
  },
  {
   "cell_type": "code",
   "execution_count": 17,
   "metadata": {},
   "outputs": [
    {
     "name": "stdout",
     "output_type": "stream",
     "text": [
      "[[3. 0. 0. 6.]\n",
      " [1. 4. 0. 0.]\n",
      " [0. 2. 5. 0.]]\n"
     ]
    }
   ],
   "source": [
    "# Use sparse.diags() to create a matrix with diagonal entries.\n",
    "diagonals = [[1,2],[3,4,5],[6]]     # List the diagonal entries.\n",
    "offsets = [-1,0,3]                  # Specify the diagonal they go on.\n",
    "print(sparse.diags(diagonals, offsets, shape=(3,4)).toarray())"
   ]
  },
  {
   "cell_type": "code",
   "execution_count": 18,
   "metadata": {},
   "outputs": [
    {
     "name": "stdout",
     "output_type": "stream",
     "text": [
      "[[3. 0. 0. 6.]\n",
      " [1. 3. 0. 0.]\n",
      " [0. 1. 3. 0.]]\n"
     ]
    }
   ],
   "source": [
    "# If all of the diagonals have the same entry, specify the entry alone.\n",
    "A = sparse.diags([1,3,6], offsets, shape=(3,4))\n",
    "print(A.toarray())"
   ]
  },
  {
   "cell_type": "code",
   "execution_count": 19,
   "metadata": {},
   "outputs": [
    {
     "name": "stdout",
     "output_type": "stream",
     "text": [
      "[[4. 0. 0. 6.]\n",
      " [1. 4. 0. 0.]\n",
      " [0. 1. 4. 0.]]\n"
     ]
    }
   ],
   "source": [
    "# Modify a diagonal with the setdiag() method.\n",
    "A.setdiag([4,4,4], 0)\n",
    "print(A.toarray())"
   ]
  },
  {
   "cell_type": "markdown",
   "metadata": {},
   "source": [
    "#### BSR Format:"
   ]
  },
  {
   "cell_type": "code",
   "execution_count": 20,
   "metadata": {},
   "outputs": [
    {
     "name": "stdout",
     "output_type": "stream",
     "text": [
      "[[1. 1. 0. 0. 1. 1.]\n",
      " [1. 1. 0. 0. 1. 1.]\n",
      " [0. 0. 2. 2. 0. 0.]\n",
      " [0. 0. 2. 2. 0. 0.]]\n"
     ]
    }
   ],
   "source": [
    "# Use sparse.bmat() to create a block matrix. Use 'None' for zero blocks.\n",
    "A = sparse.coo_matrix(np.ones((2,2)))\n",
    "B = sparse.coo_matrix(np.full((2,2), 2.))\n",
    "print(sparse.bmat([[  A , None,  A  ],\n",
    "                   [None,  B  , None]], \n",
    "                  format='bsr').toarray())"
   ]
  },
  {
   "cell_type": "code",
   "execution_count": 21,
   "metadata": {},
   "outputs": [
    {
     "name": "stdout",
     "output_type": "stream",
     "text": [
      "[[1. 1. 0. 0.]\n",
      " [1. 1. 0. 0.]\n",
      " [0. 0. 2. 2.]\n",
      " [0. 0. 2. 2.]]\n"
     ]
    }
   ],
   "source": [
    "# Use sparse.block_diag() to construct a block diagonal matrix.\n",
    "print(sparse.block_diag((A,B)).toarray())"
   ]
  },
  {
   "cell_type": "markdown",
   "metadata": {},
   "source": [
    "NOTE: Visualizing a sparse matrix"
   ]
  },
  {
   "cell_type": "code",
   "execution_count": 22,
   "metadata": {},
   "outputs": [
    {
     "data": {
      "image/png": "[encoded data removed]",
      "text/plain": [
       "<matplotlib.figure.Figure at 0x113efaa20>"
      ]
     },
     "metadata": {},
     "output_type": "display_data"
    }
   ],
   "source": [
    "from matplotlib import pyplot as plt\n",
    "\n",
    "# Construct and show a matrix with 50 2x3 diagonal blocks.\n",
    "B = sparse.coo_matrix([[1,3,5],[7,9,11]])\n",
    "A = sparse.block_diag([B]*50)\n",
    "plt.spy(A, markersize=1)\n",
    "plt.show()"
   ]
  },
  {
   "cell_type": "markdown",
   "metadata": {},
   "source": [
    "**Problem 5.** Let $I$ be the $n\\times n$ identity matrix, and define\n",
    "\n",
    "$A =\\begin{bmatrix}\n",
    "B & I &      &        & \\\\\n",
    "I & B &  I   &        & \\\\\n",
    "  & I & \\ddots & \\ddots & \\\\\n",
    "  &   & \\ddots & \\ddots & I \\\\\n",
    "  &   &        &    I   & B\n",
    "\\end{bmatrix}$, $\\quad$\n",
    "$B = \\begin{bmatrix}\n",
    "-4 &  1 &      &        & \\\\\n",
    " 1 & -4 &  1   &        & \\\\\n",
    "   &  1 & \\ddots & \\ddots & \\\\\n",
    "   &    & \\ddots & \\ddots & 1 \\\\\n",
    "   &    &        &    1   & -4\n",
    "\\end{bmatrix}$,\n",
    "\n",
    "where $A$ is $n^2\\times n^2$ and each block $B$ is $n\\times n$.\n",
    "The large matrix $A$ is used in finite difference methods for solving Laplace's equation in two dimensions, $\\frac{\\partial^2u}{\\partial x^2} + \\frac{\\partial^2u}{\\partial y^2} = 0$.\n",
    "\n",
    "Write a function that accepts an integer $n$ and constructs and returns $A$ as a sparse matrix. Use `plt.spy()` to check that your matrix has nonzero values in the correct places."
   ]
  },
  {
   "cell_type": "markdown",
   "metadata": {},
   "source": [
    "**Solution 5.**"
   ]
  },
  {
   "cell_type": "markdown",
   "metadata": {},
   "source": [
    "#### Sparse Matrix Operations"
   ]
  },
  {
   "cell_type": "code",
   "execution_count": 23,
   "metadata": {},
   "outputs": [
    {
     "data": {
      "text/plain": [
       "<10000x10000 sparse matrix of type '<class 'numpy.float64'>'\n",
       "\twith 9999 stored elements in LInked List format>"
      ]
     },
     "execution_count": 23,
     "metadata": {},
     "output_type": "execute_result"
    }
   ],
   "source": [
    "# Initialize a sparse matrix incrementally as a lil_matrix.\n",
    "A = sparse.lil_matrix((10000,10000))\n",
    "for k in range(10000):\n",
    "    A[np.random.randint(0,9999), np.random.randint(0,9999)] = k\n",
    "A"
   ]
  },
  {
   "cell_type": "code",
   "execution_count": 24,
   "metadata": {},
   "outputs": [
    {
     "data": {
      "text/plain": [
       "<10000x10000 sparse matrix of type '<class 'numpy.float64'>'\n",
       "\twith 9941 stored elements in Compressed Sparse Row format>"
      ]
     },
     "execution_count": 24,
     "metadata": {},
     "output_type": "execute_result"
    }
   ],
   "source": [
    "# Convert A to CSR and CSC formats to compute the matrix product AA.\n",
    "Acsr = A.tocsr()\n",
    "Acsc = A.tocsc()\n",
    "Acsr.dot(Acsc)"
   ]
  },
  {
   "cell_type": "markdown",
   "metadata": {},
   "source": [
    "_Note that NumPy arrays and SciPy sparse matrices have slightly different syntax._ SciPy has its own linear algebra library for sparse matrices."
   ]
  },
  {
   "cell_type": "code",
   "execution_count": 25,
   "metadata": {},
   "outputs": [],
   "source": [
    "from scipy.sparse import linalg as spla"
   ]
  },
  {
   "cell_type": "markdown",
   "metadata": {},
   "source": [
    "**Problem 6.** Write a function that times regular and sparse linear system solvers.\n",
    "\n",
    "For various values of $n$, generate the $n^2 \\times n^2$ matrix $A$ described in Problem 5 and a random vector $\\mathbf{b}$ with $n^2$ entries.\n",
    "Time how long it takes to solve the system $A\\mathbf{x} = \\mathbf{b}$ with each of the following approaches:\n",
    "\n",
    "\n",
    "1. Convert $A$ to CSR format and use `scipy.sparse.linalg.spsolve()` (`spla.spsolve()`).\n",
    "\n",
    "1. Convert $A$ to a NumPy array and use `scipy.linalg.solve()` (`la.solve()`).\n",
    "\n",
    "\n",
    "In each experiment, only time how long it takes to solve the system (not how long it takes to convert $A$ to the appropriate format).\n",
    "\n",
    "Plot the system size $n^{2}$ versus the execution times.\n",
    "As always, use log scales where appropriate and use a legend to label each line.\n"
   ]
  },
  {
   "cell_type": "markdown",
   "metadata": {},
   "source": [
    "**Solution 6.**"
   ]
  },
  {
   "cell_type": "markdown",
   "metadata": {},
   "source": [
    "#### Improvements on the LU Decomposition"
   ]
  },
  {
   "cell_type": "code",
   "execution_count": 27,
   "metadata": {},
   "outputs": [
    {
     "name": "stdout",
     "output_type": "stream",
     "text": [
      "[[0. 0. 0.]\n",
      " [1. 1. 1.]\n",
      " [2. 2. 2.]]\n"
     ]
    }
   ],
   "source": [
    "A = np.zeros(3) + np.vstack(np.arange(3))\n",
    "P = np.arange(3)\n",
    "print(A)"
   ]
  },
  {
   "cell_type": "code",
   "execution_count": 28,
   "metadata": {},
   "outputs": [
    {
     "name": "stdout",
     "output_type": "stream",
     "text": [
      "[[0. 0. 0.]\n",
      " [2. 2. 2.]\n",
      " [1. 1. 1.]]\n"
     ]
    }
   ],
   "source": [
    "# Swap rows 1 and 2.\n",
    "A[1], A[2] = np.copy(A[2]), np.copy(A[1])\n",
    "P[1], P[2] = P[2], P[1]\n",
    "print(A)                        # A with the new row arrangement."
   ]
  },
  {
   "cell_type": "code",
   "execution_count": 29,
   "metadata": {},
   "outputs": [
    {
     "name": "stdout",
     "output_type": "stream",
     "text": [
      "[0 2 1]\n"
     ]
    }
   ],
   "source": [
    "print(P)                        # The permutation of the rows."
   ]
  },
  {
   "cell_type": "code",
   "execution_count": 30,
   "metadata": {
    "scrolled": true
   },
   "outputs": [
    {
     "name": "stdout",
     "output_type": "stream",
     "text": [
      "[[0. 0. 0.]\n",
      " [1. 1. 1.]\n",
      " [2. 2. 2.]]\n"
     ]
    }
   ],
   "source": [
    "print(A[P])                     # A with the original row arrangement."
   ]
  },
  {
   "cell_type": "markdown",
   "metadata": {},
   "source": [
    "# 3. The QR Decomposition"
   ]
  },
  {
   "cell_type": "code",
   "execution_count": 15,
   "metadata": {},
   "outputs": [
    {
     "name": "stdout",
     "output_type": "stream",
     "text": [
      "(6, 4) (6, 4) (4, 4)\n"
     ]
    }
   ],
   "source": [
    "import numpy as np\n",
    "from scipy import linalg as la\n",
    "\n",
    "# Generate a random matrix and get its reduced QR decomposition via SciPy.\n",
    "A = np.random.random((6,4))\n",
    "Q,R = la.qr(A, mode=\"economic\") # Use mode=\"economic\" for reduced QR.\n",
    "print(A.shape, Q.shape, R.shape)"
   ]
  },
  {
   "cell_type": "code",
   "execution_count": 16,
   "metadata": {},
   "outputs": [
    {
     "data": {
      "text/plain": [
       "True"
      ]
     },
     "execution_count": 16,
     "metadata": {},
     "output_type": "execute_result"
    }
   ],
   "source": [
    "# Verify that R is upper triangular, Q is orthonormal, and QR = A.\n",
    "np.allclose(np.triu(R), R)"
   ]
  },
  {
   "cell_type": "code",
   "execution_count": 17,
   "metadata": {},
   "outputs": [
    {
     "data": {
      "text/plain": [
       "True"
      ]
     },
     "execution_count": 17,
     "metadata": {},
     "output_type": "execute_result"
    }
   ],
   "source": [
    "np.allclose(Q.T @ Q, np.identity(4))"
   ]
  },
  {
   "cell_type": "code",
   "execution_count": 18,
   "metadata": {},
   "outputs": [
    {
     "data": {
      "text/plain": [
       "True"
      ]
     },
     "execution_count": 18,
     "metadata": {},
     "output_type": "execute_result"
    }
   ],
   "source": [
    "np.allclose(Q @ R, A)"
   ]
  },
  {
   "cell_type": "code",
   "execution_count": 19,
   "metadata": {},
   "outputs": [
    {
     "name": "stdout",
     "output_type": "stream",
     "text": [
      "(5, 3) (5, 5) (5, 3)\n"
     ]
    }
   ],
   "source": [
    "sign = lambda x: 1 if x >= 0 else -1\n",
    "\n",
    "A = np.random.random((5, 3))\n",
    "Q,R = la.qr(A)                  # Get the full QR decomposition.\n",
    "print(A.shape, Q.shape, R.shape)"
   ]
  },
  {
   "cell_type": "code",
   "execution_count": 20,
   "metadata": {},
   "outputs": [
    {
     "data": {
      "text/plain": [
       "True"
      ]
     },
     "execution_count": 20,
     "metadata": {},
     "output_type": "execute_result"
    }
   ],
   "source": [
    "np.allclose(Q @ R, A)"
   ]
  },
  {
   "cell_type": "code",
   "execution_count": 21,
   "metadata": {},
   "outputs": [
    {
     "data": {
      "text/plain": [
       "True"
      ]
     },
     "execution_count": 21,
     "metadata": {},
     "output_type": "execute_result"
    }
   ],
   "source": [
    "# Generate a random matrix and get its upper Hessenberg form via SciPy.\n",
    "A = np.random.random((8,8))\n",
    "H, Q = la.hessenberg(A, calc_q=True)\n",
    "\n",
    "# Verify that H has all zeros below the first subdiagonal and QHQ^T = A.\n",
    "np.allclose(np.triu(H, -1), H)"
   ]
  },
  {
   "cell_type": "code",
   "execution_count": 22,
   "metadata": {},
   "outputs": [
    {
     "data": {
      "text/plain": [
       "True"
      ]
     },
     "execution_count": 22,
     "metadata": {},
     "output_type": "execute_result"
    }
   ],
   "source": [
    "np.allclose(Q @ H @ Q.T, A)"
   ]
  },
  {
   "cell_type": "code",
   "execution_count": 23,
   "metadata": {},
   "outputs": [
    {
     "name": "stdout",
     "output_type": "stream",
     "text": [
      "[[0.+0.j 1.+1.j]\n",
      " [2.+2.j 3.+3.j]]\n"
     ]
    }
   ],
   "source": [
    "A = np.reshape(np.arange(4) + 1j*np.arange(4), (2,2))\n",
    "print(A)"
   ]
  },
  {
   "cell_type": "code",
   "execution_count": 24,
   "metadata": {},
   "outputs": [
    {
     "name": "stdout",
     "output_type": "stream",
     "text": [
      "[[0.+0.j 2.+2.j]\n",
      " [1.+1.j 3.+3.j]]\n"
     ]
    }
   ],
   "source": [
    "print(A.T)                      # Regular transpose."
   ]
  },
  {
   "cell_type": "code",
   "execution_count": 25,
   "metadata": {},
   "outputs": [
    {
     "name": "stdout",
     "output_type": "stream",
     "text": [
      "[[0.-0.j 2.-2.j]\n",
      " [1.-1.j 3.-3.j]]\n"
     ]
    }
   ],
   "source": [
    "print(A.conj().T)               # Hermitian conjugate."
   ]
  },
  {
   "cell_type": "code",
   "execution_count": 26,
   "metadata": {},
   "outputs": [
    {
     "name": "stdout",
     "output_type": "stream",
     "text": [
      "[0.+0.j 1.+1.j]\n"
     ]
    }
   ],
   "source": [
    "x = np.arange(2) + 1j*np.arange(2)\n",
    "print(x)"
   ]
  },
  {
   "cell_type": "code",
   "execution_count": 27,
   "metadata": {},
   "outputs": [
    {
     "data": {
      "text/plain": [
       "2j"
      ]
     },
     "execution_count": 27,
     "metadata": {},
     "output_type": "execute_result"
    }
   ],
   "source": [
    "np.dot(x, x)                    # Standard real inner product."
   ]
  },
  {
   "cell_type": "code",
   "execution_count": 29,
   "metadata": {},
   "outputs": [
    {
     "ename": "NameError",
     "evalue": "name 'y' is not defined",
     "output_type": "error",
     "traceback": [
      "\u001b[0;31m---------------------------------------------------------------------------\u001b[0m",
      "\u001b[0;31mNameError\u001b[0m                                 Traceback (most recent call last)",
      "\u001b[0;32m<ipython-input-29-b124969a96ee>\u001b[0m in \u001b[0;36m<module>\u001b[0;34m()\u001b[0m\n\u001b[0;32m----> 1\u001b[0;31m \u001b[0mnp\u001b[0m\u001b[0;34m.\u001b[0m\u001b[0mdot\u001b[0m\u001b[0;34m(\u001b[0m\u001b[0mx\u001b[0m\u001b[0;34m.\u001b[0m\u001b[0mconj\u001b[0m\u001b[0;34m,\u001b[0m \u001b[0my\u001b[0m\u001b[0;34m)\u001b[0m             \u001b[0;31m# Standard complex inner product.\u001b[0m\u001b[0;34m\u001b[0m\u001b[0m\n\u001b[0m",
      "\u001b[0;31mNameError\u001b[0m: name 'y' is not defined"
     ]
    }
   ],
   "source": [
    "np.dot(x.conj(), y)             # Standard complex inner product."
   ]
  },
  {
   "cell_type": "code",
   "execution_count": null,
   "metadata": {},
   "outputs": [],
   "source": [
    "sign = lambda x: 1 if np.real(x) >= 0 else -1\n",
    "\n",
    "# Get the decomposition AP = QR for a random matrix A.\n",
    "A = np.random.random((8,10))\n",
    "Q,R,P = la.qr(A, pivoting=True)\n",
    "\n",
    "# P is returned as a 1-D array that encodes column ordering,\n",
    "# so A can be reconstructed with fancy indexing.\n",
    "np.allclose(Q @ R, A[:,P])\n",
    "\n",
    "# Generate a random orthonormal matrix and a random upper-triangular matrix.\n",
    "Q, _ = la.qr(np.random.normal(size=(500,500)))\n",
    "R  = np.triu(np.random.normal(size=(500,500)))\n",
    "\n",
    "# Calculate A = QR, noting that Q and R are the EXACT QR decomposition of A.\n",
    "A = Q @ R\n",
    "\n",
    "# Use SciPy to rediscover the QR decomposition of A.\n",
    "Q1, R1 = la.qr(A)\n",
    "\n",
    "# Compare the true Q and R to the computed Q1 and R1.\n",
    "print(la.norm(Q1-Q, <<ord>>=np.inf) / la.norm(Q, <<ord>>=np.inf))\n",
    "print(la.norm(R1-R, <<ord>>=np.inf) / la.norm(R, <<ord>>=np.inf))\n",
    "\n",
    "A1 = Q1 @ R1\n",
    "la.norm(A1 - A, <<ord>>=np.inf) / la.norm(A, <<ord>>=np.inf)"
   ]
  },
  {
   "cell_type": "markdown",
   "metadata": {},
   "source": [
    "# 4. Least Squares and Computing Eigenvalues"
   ]
  },
  {
   "cell_type": "code",
   "execution_count": 30,
   "metadata": {},
   "outputs": [],
   "source": [
    "import numpy as np\n",
    "from scipy.stats import linregress\n",
    "\n",
    "# Generate some random data close to the line y = .5x - 3.\n",
    "x = np.linspace(0, 10, 20)\n",
    "y = .5*x - 3 + np.random.randn(20)\n",
    "\n",
    "# Use linregress() to calculate m and b, as well as the correlation\n",
    "# coefficient, p-value, and standard error. See the documentation for\n",
    "# details on each of these extra return values.\n",
    "a, b, rvalue, pvalue, stderr = linregress(x, y)"
   ]
  },
  {
   "cell_type": "code",
   "execution_count": 31,
   "metadata": {},
   "outputs": [
    {
     "data": {
      "text/plain": [
       "[<matplotlib.lines.Line2D at 0x1a18c0b6a0>]"
      ]
     },
     "execution_count": 31,
     "metadata": {},
     "output_type": "execute_result"
    },
    {
     "data": {
      "image/png": "[encoded data removed]",
      "text/plain": [
       "<matplotlib.figure.Figure at 0x1a18c8cef0>"
      ]
     },
     "metadata": {},
     "output_type": "display_data"
    }
   ],
   "source": [
    "plt.plot(x, y, 'k*', label=\"Data Points\")"
   ]
  },
  {
   "cell_type": "code",
   "execution_count": 34,
   "metadata": {},
   "outputs": [
    {
     "data": {
      "text/plain": [
       "[<matplotlib.lines.Line2D at 0x1a191a7160>]"
      ]
     },
     "execution_count": 34,
     "metadata": {},
     "output_type": "execute_result"
    },
    {
     "data": {
      "image/png": "[encoded data removed]",
      "text/plain": [
       "<matplotlib.figure.Figure at 0x1a18c15fd0>"
      ]
     },
     "metadata": {},
     "output_type": "display_data"
    }
   ],
   "source": [
    "plt.plot(x, a*x + b, label=\"Least Squares Fit\")"
   ]
  },
  {
   "cell_type": "code",
   "execution_count": 35,
   "metadata": {},
   "outputs": [
    {
     "name": "stderr",
     "output_type": "stream",
     "text": [
      "No handles with labels found to put in legend.\n"
     ]
    },
    {
     "data": {
      "text/plain": [
       "<matplotlib.legend.Legend at 0x1a1925fbe0>"
      ]
     },
     "execution_count": 35,
     "metadata": {},
     "output_type": "execute_result"
    },
    {
     "data": {
      "image/png": "[encoded data removed]",
      "text/plain": [
       "<matplotlib.figure.Figure at 0x1a191af5c0>"
      ]
     },
     "metadata": {},
     "output_type": "display_data"
    }
   ],
   "source": [
    "plt.legend(loc=\"upper left\")"
   ]
  },
  {
   "cell_type": "code",
   "execution_count": 36,
   "metadata": {},
   "outputs": [],
   "source": [
    "plt.show()"
   ]
  },
  {
   "cell_type": "code",
   "execution_count": 37,
   "metadata": {},
   "outputs": [
    {
     "name": "stdout",
     "output_type": "stream",
     "text": [
      "[[2 1]\n",
      " [3 1]\n",
      " [5 1]]\n"
     ]
    }
   ],
   "source": [
    "print(np.vander([2, 3, 5], 2))"
   ]
  },
  {
   "cell_type": "code",
   "execution_count": 38,
   "metadata": {},
   "outputs": [
    {
     "name": "stdout",
     "output_type": "stream",
     "text": [
      "[[ 4  2  1]\n",
      " [ 9  3  1]\n",
      " [25  5  1]\n",
      " [16  4  1]]\n"
     ]
    }
   ],
   "source": [
    "print(np.vander([2, 3, 5, 4], 3))"
   ]
  },
  {
   "cell_type": "code",
   "execution_count": 39,
   "metadata": {},
   "outputs": [
    {
     "name": "stdout",
     "output_type": "stream",
     "text": [
      "   2\n",
      "1 x - 3 x + 2\n"
     ]
    }
   ],
   "source": [
    "# Create a callable object for the polynomial f(x) = (x-1)(x-2) = x^2 - 3x + 2.\n",
    "f = np.poly1d([1, -3, 2])\n",
    "print(f)"
   ]
  },
  {
   "cell_type": "code",
   "execution_count": 40,
   "metadata": {},
   "outputs": [
    {
     "data": {
      "text/plain": [
       "array([0, 0, 2, 6])"
      ]
     },
     "execution_count": 40,
     "metadata": {},
     "output_type": "execute_result"
    }
   ],
   "source": [
    "# Evaluate f(x) for several values of x in a single function call.\n",
    "f([1, 2, 3, 4])"
   ]
  },
  {
   "cell_type": "code",
   "execution_count": 41,
   "metadata": {},
   "outputs": [
    {
     "ename": "IndexError",
     "evalue": "tuple index out of range",
     "output_type": "error",
     "traceback": [
      "\u001b[0;31m---------------------------------------------------------------------------\u001b[0m",
      "\u001b[0;31mIndexError\u001b[0m                                Traceback (most recent call last)",
      "\u001b[0;32m<ipython-input-41-2b6f6c4f0eef>\u001b[0m in \u001b[0;36m<module>\u001b[0;34m()\u001b[0m\n\u001b[1;32m      5\u001b[0m \u001b[0;31m# Solve the normal equations using SciPy's least squares routine.\u001b[0m\u001b[0;34m\u001b[0m\u001b[0;34m\u001b[0m\u001b[0m\n\u001b[1;32m      6\u001b[0m \u001b[0;31m# The least squares solution is the first of four return values.\u001b[0m\u001b[0;34m\u001b[0m\u001b[0;34m\u001b[0m\u001b[0m\n\u001b[0;32m----> 7\u001b[0;31m \u001b[0mx\u001b[0m \u001b[0;34m=\u001b[0m \u001b[0mla\u001b[0m\u001b[0;34m.\u001b[0m\u001b[0mlstsq\u001b[0m\u001b[0;34m(\u001b[0m\u001b[0mA\u001b[0m\u001b[0;34m,\u001b[0m \u001b[0mb\u001b[0m\u001b[0;34m)\u001b[0m\u001b[0;34m[\u001b[0m\u001b[0;36m0\u001b[0m\u001b[0;34m]\u001b[0m\u001b[0;34m\u001b[0m\u001b[0m\n\u001b[0m\u001b[1;32m      8\u001b[0m \u001b[0;34m\u001b[0m\u001b[0m\n\u001b[1;32m      9\u001b[0m \u001b[0;31m# Generate some random data close to the line y = x^2 - 3x + 2.\u001b[0m\u001b[0;34m\u001b[0m\u001b[0;34m\u001b[0m\u001b[0m\n",
      "\u001b[0;32m~/anaconda3/lib/python3.6/site-packages/scipy/linalg/basic.py\u001b[0m in \u001b[0;36mlstsq\u001b[0;34m(a, b, cond, overwrite_a, overwrite_b, check_finite, lapack_driver)\u001b[0m\n\u001b[1;32m   1162\u001b[0m     \u001b[0;32melse\u001b[0m\u001b[0;34m:\u001b[0m\u001b[0;34m\u001b[0m\u001b[0m\n\u001b[1;32m   1163\u001b[0m         \u001b[0mnrhs\u001b[0m \u001b[0;34m=\u001b[0m \u001b[0;36m1\u001b[0m\u001b[0;34m\u001b[0m\u001b[0m\n\u001b[0;32m-> 1164\u001b[0;31m     \u001b[0;32mif\u001b[0m \u001b[0mm\u001b[0m \u001b[0;34m!=\u001b[0m \u001b[0mb1\u001b[0m\u001b[0;34m.\u001b[0m\u001b[0mshape\u001b[0m\u001b[0;34m[\u001b[0m\u001b[0;36m0\u001b[0m\u001b[0;34m]\u001b[0m\u001b[0;34m:\u001b[0m\u001b[0;34m\u001b[0m\u001b[0m\n\u001b[0m\u001b[1;32m   1165\u001b[0m         \u001b[0;32mraise\u001b[0m \u001b[0mValueError\u001b[0m\u001b[0;34m(\u001b[0m\u001b[0;34m'incompatible dimensions'\u001b[0m\u001b[0;34m)\u001b[0m\u001b[0;34m\u001b[0m\u001b[0m\n\u001b[1;32m   1166\u001b[0m     \u001b[0;32mif\u001b[0m \u001b[0mm\u001b[0m \u001b[0;34m==\u001b[0m \u001b[0;36m0\u001b[0m \u001b[0;32mor\u001b[0m \u001b[0mn\u001b[0m \u001b[0;34m==\u001b[0m \u001b[0;36m0\u001b[0m\u001b[0;34m:\u001b[0m  \u001b[0;31m# Zero-sized problem, confuses LAPACK\u001b[0m\u001b[0;34m\u001b[0m\u001b[0m\n",
      "\u001b[0;31mIndexError\u001b[0m: tuple index out of range"
     ]
    }
   ],
   "source": [
    "from scipy import linalg as la\n",
    "\n",
    "# Define A and b appropriately.\n",
    "\n",
    "# Solve the normal equations using SciPy's least squares routine.\n",
    "# The least squares solution is the first of four return values.\n",
    "x = la.lstsq(A, b)[0]\n",
    "\n",
    "# Generate some random data close to the line y = x^2 - 3x + 2.\n",
    "x = np.linspace(0, 10, 20)\n",
    "y = x**2 - 3*x + 2 + np.random.randn(20)\n",
    "\n",
    "# Use np.polyfit() to calculate the best fit 2nd degree polynomial.\n",
    "coeffs = np.polyfit(x, y, 2)\n",
    "\n",
    "domain = np.linspace(0, 10, 200)\n",
    "plt.plot(x, y, 'k*')"
   ]
  },
  {
   "cell_type": "code",
   "execution_count": null,
   "metadata": {},
   "outputs": [],
   "source": [
    "plt.plot(domain, np.polyval(coeffs, domain))\n",
    "plt.show()\n",
    "\n",
    "# Load some data and construct the matrix A and the vector b.\n",
    "xk, yk = np.load(\"circle.npy\").T\n",
    "A = np.column_stack((2*xk, 2*yk, np.ones_like(xk)))\n",
    "b = xk**2 + yk**2\n",
    "\n",
    "# Calculate the least squares solution and solve for the radius.\n",
    "c1, c2, c3 = la.lstsq(A, b)[0]\n",
    "r = np.sqrt(c1**2 + c2**2 + c3)\n",
    "\n",
    "# Plot the circle using polar coordinates.\n",
    "theta = np.linspace(0, 2*np.pi, 200)\n",
    "x = r*np.cos(theta) + c1\n",
    "y = r*np.sin(theta) + c2\n",
    "plt.plot(x, y)                  # Plot the circle.\n",
    "plt.plot(xk, yk, 'k*')          # Plot the data points.\n",
    "plt.axis(\"equal\")\n",
    "\n",
    "def plot_ellipse(a, b, c, d, e):\n",
    "    \"\"\"Plot an ellipse of the form ax^2 + bx + cxy + dy + ey^2 = 1.\"\"\"\n",
    "    theta = np.linspace(0, 2*np.pi, 200)\n",
    "    cos_t, sin_t = np.cos(theta), np.sin(theta)\n",
    "    A = a*(cos_t**2) + c*cos_t*sin_t + e*(sin_t**2)\n",
    "    B = b*cos_t + d*sin_t\n",
    "    r = (-B + np.sqrt(B**2 + 4*A)) / (2*A)\n",
    "    plt.plot(r*cos_t, r*sin_t, lw=2)\n",
    "    plt.gca().set_aspect(\"equal\", \"datalim\")\n",
    "\n",
    "# Construct a random matrix with positive entries.\n",
    "A = np.random.random((10,10))\n",
    "\n",
    "# Compute the eigenvalues and eigenvectors of A via SciPy.\n",
    "eigs, vecs = la.eig(A)\n",
    "\n",
    "# Get the dominant eigenvalue and eigenvector of A.\n",
    "# The eigenvector of the kth eigenvalue is the kth column of 'vecs'.\n",
    "loc = np.argmax(eigs)\n",
    "lamb, x = eigs[loc], vecs[:,loc]\n",
    "\n",
    "# Verify that Ax = lambda x.\n",
    "np.allclose(A @ x, lamb * x)\n",
    "\n",
    "C = np.vstack(w) * A\n",
    "z = w * b\n",
    "x = la.lstsq(C, z)[0]"
   ]
  },
  {
   "cell_type": "markdown",
   "metadata": {},
   "source": [
    "# 5. Image Segmentation"
   ]
  },
  {
   "cell_type": "markdown",
   "metadata": {},
   "source": [
    "# 6. The SVD and Image Compression"
   ]
  },
  {
   "cell_type": "markdown",
   "metadata": {},
   "source": [
    "# 7. Facial Recognition"
   ]
  },
  {
   "cell_type": "code",
   "execution_count": null,
   "metadata": {},
   "outputs": [],
   "source": [
    "import numpy as np\n",
    "from os import walk\n",
    "from scipy.misc import imread\n",
    "\n",
    "def get_faces(path=\"./faces94\"):\n",
    "    # Traverse the directory and get one image per subdirectory.\n",
    "    faces = []\n",
    "    for (dirpath, dirnames, filenames) in walk(path):\n",
    "        for fname in filenames:\n",
    "            if fname[-3:]==\"jpg\":       # Only get jpg images.\n",
    "                # Load the image, convert it to grayscale,\n",
    "                # and flatten it into a vector.\n",
    "                faces.append(np.ravel(imread(dirpath+\"/\"+fname, flatten=True)))\n",
    "                break\n",
    "    # Put all the face vectors column-wise into a matrix.\n",
    "    return np.transpose(faces)\n",
    "\n",
    "def sample_faces(num_faces, path=\"./faces94\"):\n",
    "    # Get the list of possible images.\n",
    "    files = []\n",
    "    for (dirpath, dirnames, filenames) in walk(path):\n",
    "        for fname in filenames:\n",
    "            if fname[-3:]==\"jpg\":       # Only get jpg images.\n",
    "                files.append(dirpath+\"/\"+fname)\n",
    "\n",
    "    # Get a subset of the image names and yield the images one at a time.\n",
    "    test_files = np.random.choice(files, num_faces, replace=False)\n",
    "    for fname in test_files:\n",
    "        yield np.ravel(imread(fname, flatten=True))\n",
    "\n",
    "for test_image in sample_faces(5):\n",
    "    # 'test_image' is a now flattened face vector.\n"
   ]
  },
  {
   "cell_type": "markdown",
   "metadata": {},
   "source": [
    "**Problem 1.** Write a function that accepts an image as a flattened $mn$-vector, along with its original dimensions $m$ and $n$.\n",
    "Use `np.reshape()` to convert the flattened image into its original $m\\times n$ shape and display the result with `plt.imshow()`. (Hint: use `cmap='gray'` in `plt.imshow()` to display images in grayscale.)\n",
    "\n",
    "Unzip the `faces94.zip` archive and use `get_faces()` to construct $F$.\n",
    "Each `faces94` image is $200 \\times 180$, and there are 153 people in the dataset, so $F$ should be $36000 \\times 153$. Use your function to display one of the images stored in $F$."
   ]
  },
  {
   "cell_type": "markdown",
   "metadata": {},
   "source": [
    "**Solution 1.**"
   ]
  },
  {
   "cell_type": "markdown",
   "metadata": {},
   "source": [
    "**Problem 2.** Write a class called `FacialRec` whose constructor accepts a path to a directory of images. In the constructor, use `get_faces()` to construct $F$, then compute the mean face $\\boldsymbol\\mu$ and the shifted faces $\\bar{F}$. Store each array as an attribute. (Hint: Both $\\boldsymbol\\mu$ and $\\bar{F}$ can be computed in a single line of code by using NumPy functions and/or array broadcasting.)\n",
    "\n",
    "Use your function from Problem 1 to visualize the mean face, and compare it to Figure 7.1a.\n",
    "Also display an original face and its corresponding mean-shifted face.\n",
    "Compare your results with Figures 7.1b and 7.1c."
   ]
  },
  {
   "cell_type": "markdown",
   "metadata": {},
   "source": [
    "**Solution 2.**"
   ]
  },
  {
   "cell_type": "markdown",
   "metadata": {},
   "source": [
    "**Problem 3.** In the constructor of `FacialRec`, calculate the compact SVD of $\\bar{F}$ and save the matrix $U$ as an attribute.\n",
    "Compare the computed eigenfaces (the columns of $U$) to Figure 7.2.\n",
    "\n",
    "Also write a method that accepts a vector of length $mn$ or an $mn\\times l$ matrix, as well as an integer $s$.\n",
    "Construct $U_s$ by taking the first $s$ columns of $U$, then use (7.1)\n",
    "or (7.2) to calculate the projection of the input vector or matrix\n",
    "onto the span of the first $s$ eigenfaces. (Hint: this method should be implemented with a single line of code.)\n"
   ]
  },
  {
   "cell_type": "markdown",
   "metadata": {},
   "source": [
    "**Solution 3.**"
   ]
  },
  {
   "cell_type": "markdown",
   "metadata": {},
   "source": [
    "**Problem 4.**"
   ]
  },
  {
   "cell_type": "markdown",
   "metadata": {},
   "source": [
    "**Solution 4.**"
   ]
  },
  {
   "cell_type": "markdown",
   "metadata": {},
   "source": [
    "**Problem 5.**"
   ]
  },
  {
   "cell_type": "markdown",
   "metadata": {},
   "source": [
    "**Solution 5.**"
   ]
  },
  {
   "cell_type": "markdown",
   "metadata": {},
   "source": [
    "**Problem 6.**"
   ]
  },
  {
   "cell_type": "markdown",
   "metadata": {},
   "source": [
    "**Solution 6.**"
   ]
  },
  {
   "cell_type": "markdown",
   "metadata": {},
   "source": [
    "# 8. Differentiation"
   ]
  },
  {
   "cell_type": "markdown",
   "metadata": {},
   "source": [
    "# 9. Newton’s Method"
   ]
  },
  {
   "cell_type": "code",
   "execution_count": 42,
   "metadata": {},
   "outputs": [
    {
     "name": "stdout",
     "output_type": "stream",
     "text": [
      "10  5.0  2.5  1.25  0.625  0.3125  0.15625  0.078125  "
     ]
    }
   ],
   "source": [
    "F = lambda x: x / 2\n",
    "x0, tol, maxiters = 10, 1e-9, 8\n",
    "for k in range(maxiters):           # Iterate at most N times.\n",
    "    print(x0, end='  ')\n",
    "    x1 = F(x0)                      # Compute the next iteration.\n",
    "    if abs(x1 - x0) < tol:          # Check for convergence.\n",
    "        break                       # Upon convergence, stop iterating.\n",
    "    x0 = x1                         # Otherwise, continue iterating."
   ]
  },
  {
   "cell_type": "code",
   "execution_count": 44,
   "metadata": {},
   "outputs": [],
   "source": [
    "import numpy as np\n",
    "f = lambda x: np.sign(x) * np.power(np.abs(x), 1./3)\n",
    "\n",
    "x_real = np.linspace(-1.5, 1.5, 500)    # Real parts.\n",
    "x_imag = np.linspace(-1.5, 1.5, 500)    # Imaginary parts.\n",
    "X_real, X_imag = np.meshgrid(x_real, x_imag)\n",
    "X_0 = X_real + 1j*X_imag                # Combine real and imaginary parts."
   ]
  },
  {
   "cell_type": "code",
   "execution_count": 45,
   "metadata": {},
   "outputs": [],
   "source": [
    "f = lambda x: x**3 - 1\n",
    "Df = lambda x: 3*x**2\n",
    "X_1 = X_0 - f(X_0)/Df(X_0)"
   ]
  },
  {
   "cell_type": "markdown",
   "metadata": {},
   "source": [
    "# 10. Conditioning and Stability"
   ]
  },
  {
   "cell_type": "markdown",
   "metadata": {},
   "source": [
    "# 11. Monte Carlo Integration"
   ]
  },
  {
   "cell_type": "code",
   "execution_count": 8,
   "metadata": {},
   "outputs": [
    {
     "data": {
      "text/plain": [
       "3.136"
      ]
     },
     "execution_count": 8,
     "metadata": {},
     "output_type": "execute_result"
    }
   ],
   "source": [
    "import numpy as np\n",
    "from scipy import linalg as la\n",
    "\n",
    "# Get 2000 random points in the 2-D domain [-1,1]x[-1,1].\n",
    "points = np.random.uniform(-1, 1, (2,2000))\n",
    "\n",
    "# Determine how many points are within the circle.\n",
    "lengths = la.norm(points, axis=0)\n",
    "num_within = np.count_nonzero(lengths < 1)\n",
    "\n",
    "# Estimate the circle's area.\n",
    "4 * (num_within / 2000)"
   ]
  },
  {
   "cell_type": "code",
   "execution_count": 9,
   "metadata": {},
   "outputs": [
    {
     "name": "stdout",
     "output_type": "stream",
     "text": [
      "8.827320341103658\t11.252486103247822\t11.4271939055696\t"
     ]
    }
   ],
   "source": [
    "for N in [5000, 7500, 10000]:\n",
    "    print(np.mean(1. / np.random.uniform(0, 1, N)), end='\\t')"
   ]
  },
  {
   "cell_type": "code",
   "execution_count": 10,
   "metadata": {},
   "outputs": [
    {
     "data": {
      "text/plain": [
       "0.4694277116055261"
      ]
     },
     "execution_count": 10,
     "metadata": {},
     "output_type": "execute_result"
    }
   ],
   "source": [
    "from scipy import stats\n",
    "\n",
    "# Define the bounds of integration.\n",
    "mins = np.array([-1, -1, -2])\n",
    "maxs = np.array([ 1,  3,  1])\n",
    "\n",
    "# The distribution has mean 0 and covariance I (the nxn identity).\n",
    "means, cov = np.zeros(3), np.eye(3)\n",
    "\n",
    "# Compute the integral with SciPy.\n",
    "stats.mvn.mvnun(mins, maxs, means, cov)[0]"
   ]
  },
  {
   "cell_type": "markdown",
   "metadata": {},
   "source": [
    "# 12. Importance Sampling"
   ]
  },
  {
   "cell_type": "code",
   "execution_count": 1,
   "metadata": {},
   "outputs": [
    {
     "data": {
      "text/plain": [
       "0.24197072451914337"
      ]
     },
     "execution_count": 1,
     "metadata": {},
     "output_type": "execute_result"
    }
   ],
   "source": [
    "from scipy import stats\n",
    "import numpy as np\n",
    "\n",
    "# Create an object for the standard normal distribution.\n",
    "F = stats.norm()\n",
    "# loc is the mean and scale is the standard deviation.\n",
    "G = stats.norm(loc=3, scale=2)\n",
    "\n",
    "# Calculate the probability of drawing a 1 from the normal distribution.\n",
    "F.pdf(1)"
   ]
  },
  {
   "cell_type": "code",
   "execution_count": 2,
   "metadata": {},
   "outputs": [
    {
     "data": {
      "text/plain": [
       "0.26221327268838235"
      ]
     },
     "execution_count": 2,
     "metadata": {},
     "output_type": "execute_result"
    }
   ],
   "source": [
    "# Draw a number at random from the normal distribution.\n",
    "F.rvs()"
   ]
  },
  {
   "cell_type": "code",
   "execution_count": 3,
   "metadata": {},
   "outputs": [
    {
     "data": {
      "text/plain": [
       "array([0.44708986, 1.20502796])"
      ]
     },
     "execution_count": 3,
     "metadata": {},
     "output_type": "execute_result"
    }
   ],
   "source": [
    "# Specifying a size returns a numpy.ndarray.\n",
    "F.rvs(size=2)"
   ]
  },
  {
   "cell_type": "code",
   "execution_count": 4,
   "metadata": {},
   "outputs": [
    {
     "data": {
      "text/plain": [
       "<matplotlib.figure.Figure at 0x10c846c88>"
      ]
     },
     "metadata": {},
     "output_type": "display_data"
    }
   ],
   "source": [
    "from matplotlib import pyplot as plt\n",
    "# Create a linspace for our graph.\n",
    "X = np.linspace(-4, 4, 100)\n",
    "# Use the normal distribution created previously.\n",
    "plt.plot(X, F.pdf(X))\n",
    "plt.show()"
   ]
  },
  {
   "cell_type": "code",
   "execution_count": 5,
   "metadata": {},
   "outputs": [
    {
     "data": {
      "text/plain": [
       "0.0013498980316301035"
      ]
     },
     "execution_count": 5,
     "metadata": {},
     "output_type": "execute_result"
    }
   ],
   "source": [
    "# Choose the importance distribution with mean 4 and std dev 1\n",
    "G = stats.norm(loc=4, scale=1)\n",
    "g = G.pdf                   # Equation for importance distribution\n",
    "sampler = G.rvs             # Samples from importance distribution\n",
    "\n",
    "1 - stats.norm.cdf(3)"
   ]
  },
  {
   "cell_type": "code",
   "execution_count": 6,
   "metadata": {},
   "outputs": [
    {
     "data": {
      "text/plain": [
       "0.05854983152431917"
      ]
     },
     "execution_count": 6,
     "metadata": {},
     "output_type": "execute_result"
    }
   ],
   "source": [
    "# Create the gamma distribution object with a = 9, theta = .5\n",
    "F = stats.gamma(a=9, scale=.5)\n",
    "\n",
    "# Create a 2-dim multivariate normal object with a zero vector mean and cov matrix I\n",
    "F = stats.multivariate_normal(mean=np.zeros(2), cov=np.eye(2))\n",
    "F.pdf(np.array([1,1]))"
   ]
  },
  {
   "cell_type": "code",
   "execution_count": 7,
   "metadata": {},
   "outputs": [
    {
     "data": {
      "text/plain": [
       "array([[ 0.06329161,  1.35241089],\n",
       "       [-0.28890177, -0.11085229],\n",
       "       [-1.39055316,  0.3168895 ]])"
      ]
     },
     "execution_count": 7,
     "metadata": {},
     "output_type": "execute_result"
    }
   ],
   "source": [
    "F.rvs(size=3)"
   ]
  },
  {
   "cell_type": "markdown",
   "metadata": {},
   "source": [
    "# 13. Visualizing Complex-valued Functions"
   ]
  },
  {
   "cell_type": "code",
   "execution_count": 33,
   "metadata": {},
   "outputs": [
    {
     "name": "stdout",
     "output_type": "stream",
     "text": [
      "2.8284271247461903 -0.7853981633974483\n"
     ]
    }
   ],
   "source": [
    "import numpy as np\n",
    "\n",
    "z = 2 - 2*1j                    # 1j is the imaginary unit i = sqrt(-1).\n",
    "r, theta = np.abs(z), np.angle(z)\n",
    "print(r, theta)                 # The angle is between -pi and pi."
   ]
  },
  {
   "cell_type": "code",
   "execution_count": 34,
   "metadata": {},
   "outputs": [
    {
     "data": {
      "text/plain": [
       "True"
      ]
     },
     "execution_count": 34,
     "metadata": {},
     "output_type": "execute_result"
    }
   ],
   "source": [
    "# Check that z = r * e^(i*theta)\n",
    "np.isclose(z, r*np.exp(1j*theta))"
   ]
  },
  {
   "cell_type": "code",
   "execution_count": 35,
   "metadata": {},
   "outputs": [
    {
     "data": {
      "text/plain": [
       "array([0.        , 2.23606798, 4.47213595, 6.70820393, 8.94427191])"
      ]
     },
     "execution_count": 35,
     "metadata": {},
     "output_type": "execute_result"
    }
   ],
   "source": [
    "# These function also work on entire arrays.\n",
    "np.abs(np.arange(5) + 2j*np.arange(5))"
   ]
  },
  {
   "cell_type": "code",
   "execution_count": 36,
   "metadata": {},
   "outputs": [
    {
     "ename": "ImportError",
     "evalue": "cannot import name 'mpmath'",
     "output_type": "error",
     "traceback": [
      "\u001b[0;31m---------------------------------------------------------------------------\u001b[0m",
      "\u001b[0;31mImportError\u001b[0m                               Traceback (most recent call last)",
      "\u001b[0;32m<ipython-input-36-cb58e11a8d0d>\u001b[0m in \u001b[0;36m<module>\u001b[0;34m()\u001b[0m\n\u001b[1;32m      4\u001b[0m \u001b[0mZ\u001b[0m \u001b[0;34m=\u001b[0m \u001b[0mX\u001b[0m \u001b[0;34m+\u001b[0m \u001b[0;36m1j\u001b[0m\u001b[0;34m*\u001b[0m\u001b[0mY\u001b[0m                    \u001b[0;31m# Combine the grids into a complex array.\u001b[0m\u001b[0;34m\u001b[0m\u001b[0m\n\u001b[1;32m      5\u001b[0m \u001b[0;34m\u001b[0m\u001b[0m\n\u001b[0;32m----> 6\u001b[0;31m \u001b[0;32mfrom\u001b[0m \u001b[0msympy\u001b[0m \u001b[0;32mimport\u001b[0m \u001b[0mmpmath\u001b[0m \u001b[0;32mas\u001b[0m \u001b[0mmp\u001b[0m\u001b[0;34m\u001b[0m\u001b[0m\n\u001b[0m\u001b[1;32m      7\u001b[0m \u001b[0mmp\u001b[0m\u001b[0;34m.\u001b[0m\u001b[0mquad\u001b[0m\u001b[0;34m(\u001b[0m\u001b[0;32mlambda\u001b[0m \u001b[0mz\u001b[0m\u001b[0;34m:\u001b[0m \u001b[0mmp\u001b[0m\u001b[0;34m.\u001b[0m\u001b[0mexp\u001b[0m\u001b[0;34m(\u001b[0m\u001b[0mz\u001b[0m\u001b[0;34m)\u001b[0m\u001b[0;34m,\u001b[0m \u001b[0;34m(\u001b[0m\u001b[0mcomplex\u001b[0m\u001b[0;34m(\u001b[0m\u001b[0;34m-\u001b[0m\u001b[0;36m1\u001b[0m\u001b[0;34m,\u001b[0m \u001b[0;34m-\u001b[0m\u001b[0;36m1\u001b[0m\u001b[0;34m)\u001b[0m\u001b[0;34m,\u001b[0m \u001b[0mcomplex\u001b[0m\u001b[0;34m(\u001b[0m\u001b[0;36m1\u001b[0m\u001b[0;34m,\u001b[0m \u001b[0;36m1\u001b[0m\u001b[0;34m)\u001b[0m\u001b[0;34m)\u001b[0m\u001b[0;34m)\u001b[0m\u001b[0;34m\u001b[0m\u001b[0m\n",
      "\u001b[0;31mImportError\u001b[0m: cannot import name 'mpmath'"
     ]
    }
   ],
   "source": [
    "x = np.linspace(-1, 1, 400)     # Real domain.\n",
    "y = np.linspace(-1, 1, 400)     # Imaginary domain.\n",
    "X, Y = np.meshgrid(x, y)        # Make grid matrices.\n",
    "Z = X + 1j*Y                    # Combine the grids into a complex array.\n",
    "\n",
    "from sympy import mpmath as mp\n",
    "mp.quad(lambda z: mp.exp(z), (complex(-1, -1), complex(1, 1)))"
   ]
  },
  {
   "cell_type": "code",
   "execution_count": 37,
   "metadata": {},
   "outputs": [
    {
     "name": "stderr",
     "output_type": "stream",
     "text": [
      "/Users/david/anaconda3/lib/python3.6/site-packages/ipykernel_launcher.py:38: RuntimeWarning: divide by zero encountered in true_divide\n",
      "/Users/david/anaconda3/lib/python3.6/site-packages/ipykernel_launcher.py:38: RuntimeWarning: invalid value encountered in true_divide\n"
     ]
    },
    {
     "data": {
      "image/png": "[encoded data removed]",
      "text/plain": [
       "<matplotlib.figure.Figure at 0x11ea89390>"
      ]
     },
     "metadata": {},
     "output_type": "display_data"
    }
   ],
   "source": [
    "import numpy as np\n",
    "import matplotlib.pyplot as plt\n",
    "from colorsys import hls_to_rgb\n",
    "\n",
    "def colorize(z):\n",
    "    '''\n",
    "    Map a complex number to a color (or hue) and lightness.\n",
    "\n",
    "    INPUT:\n",
    "    z - an array of complex numbers in rectangular coordinates\n",
    "\n",
    "    OUTPUT:\n",
    "    If z is an n x m array, return an n x m x 3 array whose third axis encodes\n",
    "    (hue, lightness, saturation) tuples for each entry in z. This new array can\n",
    "    be plotted by plt.imshow().\n",
    "    '''\n",
    "\n",
    "    zy=np.flipud(z)\n",
    "    r = np.abs(zy)\n",
    "    arg = np.angle(zy)\n",
    "\n",
    "    # Define hue (h), lightness (l), and saturation (s)\n",
    "    # Saturation is constant in our visualizations\n",
    "    h = (arg + np.pi)  / (2 * np.pi) + 0.5\n",
    "    l = 1.0 - 1.0/(1.0 + r**0.3)\n",
    "    s = 0.8\n",
    "\n",
    "    # Convert the HLS values to RGB values.\n",
    "    # This operation returns a tuple of shape (3,n,m).\n",
    "    c = np.vectorize(hls_to_rgb) (h,l,s)\n",
    "\n",
    "    # Convert c to an array and change the shape to (n,m,3)\n",
    "    c = np.array(c)\n",
    "    c = c.swapaxes(0,2)\n",
    "    c = c.swapaxes(0,1)\n",
    "    return c\n",
    "\n",
    "f = lambda z :  (z**2-1)/z\n",
    "x = np.linspace(-.5, 1.5, 401)\n",
    "y = np.linspace(-1, 1, 401)\n",
    "X,Y = np.meshgrid(x,y)\n",
    "Z=f(X+Y*1j)\n",
    "Zc=colorize(Z)\n",
    "plt.imshow(Zc, extent=(-.5, 1.5, -1, 1))\n",
    "plt.show()"
   ]
  },
  {
   "cell_type": "markdown",
   "metadata": {},
   "source": [
    "# 14. The PageRank Algorithm"
   ]
  },
  {
   "cell_type": "code",
   "execution_count": null,
   "metadata": {},
   "outputs": [],
   "source": [
    "\n",
    "A = np.array([[ 0,  0,  0,  0,  0,  0,  0,  1],\n",
    "              [ 1,  0,  0,  0,  0,  0,  0,  0],\n",
    "              [ 0,  0,  0,  0,  0,  0,  0,  0],\n",
    "              [ 1,  0,  1,  0,  0,  0,  1,  0],\n",
    "              [ 1,  0,  0,  0,  0,  1,  1,  0],\n",
    "              [ 1,  0,  0,  0,  0,  0,  1,  0],\n",
    "              [ 1,  0,  0,  0,  0,  0,  0,  0],\n",
    "              [ 1,  0,  0,  0,  0,  0,  0,  0]])\n",
    "\n",
    "def to_matrix( filename, n ):\n",
    "    ''' Return the nxn adjacency matrix described by the file.\n",
    "\n",
    "    INPUTS:\n",
    "    filename - Name of a .txt file describing a directed graph. Lines\n",
    "            describing edges should have the form\n",
    "        '<from node>\\t<to node>'.\n",
    "        The file may also include comments.\n",
    "    n   - The number of nodes in the graph described by datafile\n",
    "\n",
    "    RETURN:\n",
    "    Return a NumPy array.\n",
    "    '''\n",
    "\n",
    "# Open `matrix.txt' for read-only\n",
    "with open('./matrix.txt', 'r') as myfile:\n",
    "    for line in myfile:\n",
    "        print line\n",
    "\n",
    "line = '0\\t4\\n'\n",
    "# strip() removes trailing whitespace from a line.\n",
    "# split() returns a list of the space-separated pieces of the line.\n",
    "line.strip().split()\n",
    "\n",
    "Am = np.array([[ 0,  0,  0,  0,  0,  0,  0,  1],\n",
    "               [ 1,  0,  0,  0,  0,  0,  0,  0],\n",
    "               [ 1,  1,  1,  1,  1,  1,  1,  1],\n",
    "               [ 1,  0,  1,  0,  0,  0,  1,  0],\n",
    "               [ 1,  0,  0,  0,  0,  1,  1,  0],\n",
    "               [ 1,  0,  0,  0,  0,  0,  1,  0],\n",
    "               [ 1,  0,  0,  0,  0,  0,  0,  0],\n",
    "               [ 1,  0,  0,  0,  0,  0,  0,  0]])\n",
    "\n",
    "K = np.array([[ 0   ,  1   ,  1./8,  1./3,  1./3,  1./2,  1   ,  1   ],\n",
    "              [ 0   ,  0   ,  1./8,  0   ,  0   ,  0   ,  0   ,  0   ],\n",
    "              [ 0   ,  0   ,  1./8,  1./3,  0   ,  0   ,  0   ,  0   ],\n",
    "              [ 0   ,  0   ,  1./8,  0   ,  0   ,  0   ,  0   ,  0   ],\n",
    "              [ 0   ,  0   ,  1./8,  0   ,  0   ,  0   ,  0   ,  0   ],\n",
    "              [ 0   ,  0   ,  1./8,  0   ,  1./3,  0   ,  0   ,  0   ],\n",
    "              [ 0   ,  0   ,  1./8,  1./3,  1./3,  1./2,  0   ,  0   ],\n",
    "              [ 1   ,  0   ,  1./8,  0   ,  0   ,  0   ,  0   ,  0   ]])\n",
    "\n",
    "from scipy import linalg as la\n",
    "I = np.eye(8)\n",
    "d = .85\n",
    "la.solve(I-d*K, ((1-d)/8)*np.ones(8))\n",
    "\n",
    "def iter_solve( adj, N=None, d=.85, tol=1E-5):\n",
    "    '''\n",
    "    Return the page ranks of the network described by 'adj' using the iterative method.\n",
    "\n",
    "    INPUTS:\n",
    "    adj - A NumPy array representing the adjacency matrix of a directed\n",
    "            graph\n",
    "    N     - Restrict the computation to the first `N` nodes of the graph.\n",
    "            Defaults to N=None; in this case, the entire matrix is used.\n",
    "    d     - The damping factor, a float between 0 and 1.\n",
    "            Defaults to .85.\n",
    "    tol  - Stop iterating when the change in approximations to the\n",
    "            solution is less than `tol'. Defaults to 1E-5.\n",
    "\n",
    "    OUTPUTS:\n",
    "    Return the approximation to the steady state of p.\n",
    "    '''\n",
    "\n",
    "def eig_solve( adj, N=None, d=.85):\n",
    "    '''\n",
    "    Return the page ranks of the network described by `adj`.\n",
    "\n",
    "    INPUTS:\n",
    "    adj - A NumPy array representing the adjacency matrix of a directed\n",
    "            graph\n",
    "    N     - Restrict the computation to the first `N` nodes of the graph.\n",
    "            Defaults to N=None; in this case, the entire matrix is used.\n",
    "    d     - The damping factor, a float between 0 and 1.\n",
    "            Defaults to .85.\n",
    "\n",
    "    OUTPUTS:\n",
    "    Return the approximation to the steady state of p.\n",
    "    '''\n",
    "\n",
    "with open('./ncaa2013.csv', 'r') as ncaafile:\n",
    "    ncaafile.readline() #reads and ignores the header line\n",
    "    for line in ncaafile:\n",
    "        teams = line.strip().split(',') #split on commas\n",
    "        print teams\n",
    "\n",
    "edges = array([[ 0,  7],\n",
    "[ 1,  0],\n",
    "[ 3,  0],\n",
    "[ 3,  6],\n",
    "[ 4,  0],\n",
    "[ 4,  5],\n",
    "[ 4,  6],\n",
    "[ 5,  0],\n",
    "[ 5,  6],\n",
    "[ 6,  0],\n",
    "[ 7,  0]])\n",
    "\n",
    "import networkx as nx\n",
    "G = nx.from_edgelist(edges, create_using=nx.DiGraph())\n",
    "G.in_degree()\n",
    "G.out_degree()\n",
    "G.in_edges(0)\n",
    "G.out_edges(0)\n",
    "\n",
    "nx.pagerank(G, alpha=0.85) # alpha is the dampening factor.\n"
   ]
  },
  {
   "cell_type": "markdown",
   "metadata": {},
   "source": [
    "# 15. The Drazin Inverse"
   ]
  },
  {
   "cell_type": "code",
   "execution_count": 46,
   "metadata": {},
   "outputs": [
    {
     "data": {
      "text/plain": [
       "array([[ 2., -3.,  6.],\n",
       "       [ 0.,  0.,  2.],\n",
       "       [ 0.,  0.,  1.]])"
      ]
     },
     "execution_count": 46,
     "metadata": {},
     "output_type": "execute_result"
    }
   ],
   "source": [
    "from scipy import linalg as la\n",
    "\n",
    "# The standard Schur decomposition.\n",
    "A = np.array([[0,0,2],[-3,2,6],[0,0,1]])\n",
    "T,Z = la.schur(A)\n",
    "T                       # The eigenvalues (2, 0, and 1) are not sorted."
   ]
  },
  {
   "cell_type": "code",
   "execution_count": 47,
   "metadata": {},
   "outputs": [
    {
     "data": {
      "text/plain": [
       "array([[2.        , 0.        , 6.70820393],\n",
       "       [0.        , 1.        , 2.        ],\n",
       "       [0.        , 0.        , 0.        ]])"
      ]
     },
     "execution_count": 47,
     "metadata": {},
     "output_type": "execute_result"
    }
   ],
   "source": [
    "# Specify a sorting function to get the desired result.\n",
    "f = lambda x: abs(x) > 0\n",
    "T1,Z1,k = la.schur(A, sort=f)\n",
    "T1"
   ]
  },
  {
   "cell_type": "code",
   "execution_count": 48,
   "metadata": {},
   "outputs": [
    {
     "data": {
      "text/plain": [
       "2"
      ]
     },
     "execution_count": 48,
     "metadata": {},
     "output_type": "execute_result"
    }
   ],
   "source": [
    "k    # k is the number of columns satisfying the sort,\n",
    "     # which is the number of nonzero eigenvalues."
   ]
  },
  {
   "cell_type": "code",
   "execution_count": 49,
   "metadata": {},
   "outputs": [
    {
     "data": {
      "text/plain": [
       "array([[-5,  1,  2],\n",
       "       [-9,  0, -5],\n",
       "       [ 0, -5, -3]])"
      ]
     },
     "execution_count": 49,
     "metadata": {},
     "output_type": "execute_result"
    }
   ],
   "source": [
    "A = np.random.randint(-9,9,(3,3))\n",
    "A"
   ]
  },
  {
   "cell_type": "code",
   "execution_count": 50,
   "metadata": {},
   "outputs": [
    {
     "data": {
      "text/plain": [
       "-9"
      ]
     },
     "execution_count": 50,
     "metadata": {},
     "output_type": "execute_result"
    }
   ],
   "source": [
    "# Find the minimum value in the array.\n",
    "minval = np.min(A)\n",
    "minval"
   ]
  },
  {
   "cell_type": "code",
   "execution_count": 51,
   "metadata": {},
   "outputs": [
    {
     "data": {
      "text/plain": [
       "(array([1]), array([0]))"
      ]
     },
     "execution_count": 51,
     "metadata": {},
     "output_type": "execute_result"
    }
   ],
   "source": [
    "# Find the location of the minimum value.\n",
    "loc = np.where(A==minval)\n",
    "loc"
   ]
  },
  {
   "cell_type": "markdown",
   "metadata": {},
   "source": [
    "# 16. Iterative Solvers"
   ]
  },
  {
   "cell_type": "code",
   "execution_count": null,
   "metadata": {},
   "outputs": [],
   "source": [
    "import numpy as np\n",
    "\n",
    "D = np.array([[2,0],[0,16]])    # Let D be a diagonal matrix.\n",
    "d = np.diag(D)                  # Extract the diagonal as a 1-D array.\n",
    "x = np.random.random(2)\n",
    "np.allclose(D.dot(x), d*x)"
   ]
  },
  {
   "cell_type": "code",
   "execution_count": null,
   "metadata": {},
   "outputs": [],
   "source": [
    "% from scipy import linalg as la\n",
    "%\n",
    "% x = np.random.random(10)\n",
    "% la.norm(x, <<ord>>=np.inf)          # Use la.norm() for ||x||.\n",
    "% 0.74623726404168045\n",
    "% np.<<max>>(np.<<abs>>(x))               # The equivalent in NumPy for ||x||.\n",
    "% 0.74623726404168045\n",
    "% "
   ]
  },
  {
   "cell_type": "code",
   "execution_count": null,
   "metadata": {},
   "outputs": [],
   "source": [
    "def diag_dom(n, num_entries=None):\n",
    "    \"\"\"Generate a strictly diagonally dominant (n, n) matrix.\n",
    "    Parameters:\n",
    "        n (int): The dimension of the system.\n",
    "        num_entries (int): The number of nonzero values.\n",
    "            Defaults to n^(3/2)-n.\n",
    "    Returns:\n",
    "        A ((n,n) ndarray): A (n, n) strictly diagonally dominant matrix.\n",
    "    \"\"\"\n",
    "    if num_entries is None:\n",
    "        num_entries = int(n**1.5) - n\n",
    "    A = np.zeros((n,n))\n",
    "    rows = np.random.choice(np.arange(0,n), size=num_entries)\n",
    "    cols = np.random.choice(np.arange(0,n), size=num_entries)\n",
    "    data = np.random.randint(-4, 4, size=num_entries)\n",
    "    for i in range(num_entries):\n",
    "        A[rows[i], cols[i]] = data[i]\n",
    "    for i in range(n):\n",
    "        A[i,i] = np.<<sum>>(np.<<abs>>(A[i])) + 1\n",
    "    return A\n",
    "\n",
    "x0 = np.random.random(5)        # Generate a random vector.\n",
    "x1 = x0                         # Attempt to make a copy.\n",
    "x1[3] = 1000                    # Modify the \"copy\" in place.\n",
    "np.allclose(x0, x1)             # But x0 was also changed!"
   ]
  },
  {
   "cell_type": "code",
   "execution_count": null,
   "metadata": {},
   "outputs": [],
   "source": [
    "# Instead, make a copy of x0 when creating x1.\n",
    "x0 = np.copy(x1)                # Make a copy.\n",
    "x1[3] = -1000\n",
    "np.allclose(x0, x1)"
   ]
  },
  {
   "cell_type": "code",
   "execution_count": null,
   "metadata": {},
   "outputs": [],
   "source": [
    "# Get the indices of where the i-th row of A starts and ends if the\n",
    "# nonzero entries of A were flattened.\n",
    "rowstart = A.indptr[i]\n",
    "rowend = A.indptr[i+1]\n",
    "\n",
    "# Multiply only the nonzero elements of the i-th row of A with the\n",
    "# corresponding elements of x.\n",
    "Aix = A.data[rowstart:rowend] @ x[A.indices[rowstart:rowend]]"
   ]
  },
  {
   "cell_type": "code",
   "execution_count": null,
   "metadata": {},
   "outputs": [],
   "source": [
    "from scipy import sparse\n",
    "\n",
    "A = sparse.csr_matrix(diag_dom(50000))\n",
    "b = np.random.random(50000)"
   ]
  },
  {
   "cell_type": "code",
   "execution_count": null,
   "metadata": {},
   "outputs": [],
   "source": [
    "from matplotlib import pyplot as plt\n",
    "import numpy as np\n",
    "\n",
    "n = 100\n",
    "A,b = finite_difference(n)\n",
    "x = sparse_sor(A,b,1.9,maxiters=10000,tol=10**-2)\n",
    "U = x.reshape((n,n))\n",
    "x,y = np.linspace(0,10,n), np.linspace(0,10,n)\n",
    "X,Y = np.meshgrid(x,y)\n",
    "\n",
    "plt.pcolormesh(X,Y,U,cmap='coolwarm')\n",
    "plt.show()"
   ]
  },
  {
   "cell_type": "code",
   "execution_count": null,
   "metadata": {},
   "outputs": [],
   "source": [
    "from matplotlib import pyplot as plt\n",
    "\n",
    "def jacobi(n=100, tol=1e-8):\n",
    "\n",
    "    # Perform the algorithm, storing the result in the array 'U'.\n",
    "\n",
    "    # Visualize the results.\n",
    "    plt.imshow(U)\n",
    "    plt.show()"
   ]
  },
  {
   "cell_type": "markdown",
   "metadata": {},
   "source": [
    "# 17. The Arnoldi Iteration"
   ]
  },
  {
   "cell_type": "code",
   "execution_count": null,
   "metadata": {},
   "outputs": [],
   "source": [
    "b = A.conj() @ B"
   ]
  },
  {
   "cell_type": "code",
   "execution_count": null,
   "metadata": {},
   "outputs": [],
   "source": [
    "from scipy.sparse import linalg as spla\n",
    "B = np.random.random((100,100))\n",
    "spla.eigs(B, k=5, return_eigenvectors=false)\n",
    "\n",
    "# Evaluate the eigenvalues\n",
    "eigvalues = la.eig(A)[0]\n",
    "# Sort them from greatest to least (use np.abs to account for complex parts)\n",
    "eigvalues = eigvalues[np.sort(np.<<abs>>(eigvalues))[::-1]]\n",
    "\n",
    "errors[errors > 10] = 10.\n",
    "\n",
    "A = np.random.rand(300, 300)\n",
    "plot_ritz(a, 10, 175)\n",
    "\n",
    "# A matrix with uniformly distributed eigenvalues\n",
    "d = np.diag(np.random.rand(300))\n",
    "B = A @ d @ la.inv(A)\n",
    "plot_ritz(B, 10, 175)\n",
    "\n",
    "def companion_multiply(c, u):\n",
    "    v = np.empty_like(u)\n",
    "    v[0] = - c[0] * u[-1]\n",
    "    v[1:] = u[:-1] - c[1:] * u[-1]\n",
    "    return v\n",
    "\n",
    "p = np.poly1d([1] + list(c[::-1]))\n",
    "roots = p.roots\n",
    "# Now sort by absolute value from largest to smallest\n",
    "roots = roots[np.<<abs>>(roots).argsort()][::-1]\n",
    "\n",
    "def lanczos(b, L, k, tol=1E-8):\n",
    "    '''Perform `k' steps of the Lanczos iteration on the symmetric linear\n",
    "    operator defined by `L', starting with the vector 'b'.\n",
    "\n",
    "    INPUTS:\n",
    "    b    - A NumPy array. The starting vector for the Lanczos iteration.\n",
    "    L - A function handle. Should describe a symmetric linear operator.\n",
    "    k    - Number of times to perform the Lanczos iteration.\n",
    "    tol  - Stop iterating if the next vector in the Lanczos iteration has\n",
    "          norm less than `tol'. Defaults to 1E-8.\n",
    "\n",
    "    RETURN:\n",
    "    Return (alpha, beta) where alpha and beta are the main diagonal and\n",
    "    first subdiagonal of the tridiagonal matrix computed by the Lanczos\n",
    "    iteration.\n",
    "    '''\n",
    "\n",
    "def tri_mul(a, b, u):\n",
    "   ''' Return Au where A is the tridiagonal symmetric matrix with main\n",
    "   diagonal a and subdiagonal b.\n",
    "   '''\n",
    "    v = a * u\n",
    "    v[:-1] += b * u[1:]\n",
    "    v[1:] += b * u[:-1]\n",
    "    return v"
   ]
  },
  {
   "cell_type": "markdown",
   "metadata": {},
   "source": [
    "# 18. GMRES"
   ]
  },
  {
   "cell_type": "code",
   "execution_count": 32,
   "metadata": {},
   "outputs": [
    {
     "ename": "NameError",
     "evalue": "name 'gmres' is not defined",
     "output_type": "error",
     "traceback": [
      "\u001b[0;31m---------------------------------------------------------------------------\u001b[0m",
      "\u001b[0;31mNameError\u001b[0m                                 Traceback (most recent call last)",
      "\u001b[0;32m<ipython-input-32-296002403f1c>\u001b[0m in \u001b[0;36m<module>\u001b[0;34m()\u001b[0m\n\u001b[1;32m      2\u001b[0m \u001b[0mb\u001b[0m \u001b[0;34m=\u001b[0m \u001b[0mnp\u001b[0m\u001b[0;34m.\u001b[0m\u001b[0marray\u001b[0m\u001b[0;34m(\u001b[0m\u001b[0;34m[\u001b[0m\u001b[0;36m1\u001b[0m\u001b[0;34m,\u001b[0m \u001b[0;36m4\u001b[0m\u001b[0;34m,\u001b[0m \u001b[0;36m6\u001b[0m\u001b[0;34m]\u001b[0m\u001b[0;34m)\u001b[0m\u001b[0;34m\u001b[0m\u001b[0m\n\u001b[1;32m      3\u001b[0m \u001b[0mx0\u001b[0m \u001b[0;34m=\u001b[0m \u001b[0mnp\u001b[0m\u001b[0;34m.\u001b[0m\u001b[0mzeros\u001b[0m\u001b[0;34m(\u001b[0m\u001b[0mb\u001b[0m\u001b[0;34m.\u001b[0m\u001b[0msize\u001b[0m\u001b[0;34m)\u001b[0m\u001b[0;34m\u001b[0m\u001b[0m\n\u001b[0;32m----> 4\u001b[0;31m \u001b[0mgmres\u001b[0m\u001b[0;34m(\u001b[0m\u001b[0mA\u001b[0m\u001b[0;34m,\u001b[0m \u001b[0mb\u001b[0m\u001b[0;34m,\u001b[0m \u001b[0mx0\u001b[0m\u001b[0;34m,\u001b[0m \u001b[0mk\u001b[0m\u001b[0;34m=\u001b[0m\u001b[0;36m100\u001b[0m\u001b[0;34m,\u001b[0m \u001b[0mtol\u001b[0m\u001b[0;34m=\u001b[0m\u001b[0;36m1e-8\u001b[0m\u001b[0;34m)\u001b[0m\u001b[0;34m\u001b[0m\u001b[0m\n\u001b[0m",
      "\u001b[0;31mNameError\u001b[0m: name 'gmres' is not defined"
     ]
    }
   ],
   "source": [
    "A = np.array([[1,0,0],[0,2,0],[0,0,3]])\n",
    "b = np.array([1, 4, 6])\n",
    "x0 = np.zeros(b.size)\n",
    "gmres(A, b, x0, k=100, tol=1e-8)"
   ]
  },
  {
   "cell_type": "code",
   "execution_count": null,
   "metadata": {},
   "outputs": [],
   "source": [
    "import numpy as np\n",
    "from scipy import sparse\n",
    "from scipy.sparse import linalg as spla\n",
    "\n",
    "A = np.random.rand(300, 300)\n",
    "b = np.random(300)\n",
    "x, info = spla.gmres(A, b)\n",
    "print(info)"
   ]
  },
  {
   "cell_type": "code",
   "execution_count": null,
   "metadata": {},
   "outputs": [],
   "source": [
    "la.norm((A @ x) - b)"
   ]
  },
  {
   "cell_type": "code",
   "execution_count": null,
   "metadata": {},
   "outputs": [],
   "source": [
    "# Restart after 1000 iterations.\n",
    "x, info = spla.gmres(A, b, restart=1000)\n",
    "info"
   ]
  },
  {
   "cell_type": "code",
   "execution_count": null,
   "metadata": {},
   "outputs": [],
   "source": [
    "la.norm((A @ x) - b)"
   ]
  }
 ],
 "metadata": {
  "kernelspec": {
   "display_name": "Python 3",
   "language": "python",
   "name": "python3"
  },
  "language_info": {
   "codemirror_mode": {
    "name": "ipython",
    "version": 3
   },
   "file_extension": ".py",
   "mimetype": "text/x-python",
   "name": "python",
   "nbconvert_exporter": "python",
   "pygments_lexer": "ipython3",
   "version": "3.6.4"
  }
 },
 "nbformat": 4,
 "nbformat_minor": 2
}
