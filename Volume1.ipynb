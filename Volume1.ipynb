{
 "cells": [
  {
   "cell_type": "markdown",
   "metadata": {},
   "source": [
    "# _Foundations of Applied Mathematics_ Labs: Volume 1\n",
    "\n",
    "# 1. Linear Transformations"
   ]
  },
  {
   "cell_type": "code",
   "execution_count": 1,
   "metadata": {},
   "outputs": [],
   "source": [
    "import numpy as np\n",
    "from matplotlib import pyplot as plt"
   ]
  },
  {
   "cell_type": "code",
   "execution_count": 2,
   "metadata": {},
   "outputs": [
    {
     "data": {
      "text/plain": [
       "[<matplotlib.lines.Line2D at 0x1138d85c0>]"
      ]
     },
     "execution_count": 2,
     "metadata": {},
     "output_type": "execute_result"
    },
    {
     "data": {
      "image/png": "[encoded data removed]",
      "text/plain": [
       "<matplotlib.figure.Figure at 0x10deb8390>"
      ]
     },
     "metadata": {},
     "output_type": "display_data"
    }
   ],
   "source": [
    "# Load the array from the .npy file.\n",
    "data = np.load(\"data/horse.npy\")\n",
    "\n",
    "# Plot the x row against the y row with black pixels.\n",
    "plt.plot(data[0], data[1], 'k,')"
   ]
  },
  {
   "cell_type": "code",
   "execution_count": 3,
   "metadata": {},
   "outputs": [
    {
     "data": {
      "image/png": "[encoded data removed]",
      "text/plain": [
       "<matplotlib.figure.Figure at 0x1138ae7b8>"
      ]
     },
     "metadata": {},
     "output_type": "display_data"
    }
   ],
   "source": [
    "# Set the window limits to [-1, 1] by [-1, 1] and make the window square.\n",
    "plt.axis([-1,1,-1,1])\n",
    "plt.gca().set_aspect(\"equal\")\n",
    "plt.show()"
   ]
  },
  {
   "cell_type": "markdown",
   "metadata": {},
   "source": [
    "_This didn't seem to work as it should?_"
   ]
  },
  {
   "cell_type": "markdown",
   "metadata": {},
   "source": [
    "**Problem 1.** Write a function for each type of linear transformation (_stretch_, _shear_, _reflection_, _rotation_, _composition_). Each function should accept an array to transform and the scalars that define the transformation ($a$ and $b$ for stretch, shear, and reflection, and $θ$ for rotation). Construct the matrix representation, left multiply it with the input array, and return the transformed array.\n",
    "\n",
    "To test these functions, write a function to plot the original points in `horse.npy` together with the transformed points in subplots for a side-by-side comparison. Compare your results to Figure 1.1."
   ]
  },
  {
   "cell_type": "code",
   "execution_count": null,
   "metadata": {},
   "outputs": [],
   "source": []
  },
  {
   "cell_type": "markdown",
   "metadata": {},
   "source": [
    "**Problem 2.** The moon orbits the earth while the earth orbits the sun. Assuming circular orbits, we can compute the trajectories of both the earth and the moon using only linear and affine transformations.\n",
    "\n",
    "Assume an orientation where both the earth and moon travel counterclockwise, with the sun at the origin. Let $p_e(t)$ and $p_m(t)$ be the positions of the earth and the moon at time $t$, respectively, and let $ω_e$ and $ω_m$ be each celestial body’s angular momentum. For a particular time $t$, we calculate $p_e(t)$ and $p_m(t)$ with the following steps:\n",
    "\n",
    "1. Compute $p_e(t)$ by rotating the initial vector $p_e(0)$ counterclockwise about the origin by $tω_e$ radians.\n",
    "\n",
    "2. Calculate the position of the moon relative to the earth at time $t$ by rotating the vector $p_m(0) − p_e(0)$ counterclockwise about the origin by $tω_m$ radians.\n",
    "\n",
    "3. To compute $p_m(t)$, translate the vector resulting from the previous step by $p_e(t)$.\n",
    "\n",
    "Write a function that accepts a final time $T$ and the angular momenta $ω_e$ and $ω_m$. Assuming initial positions $p_e(0) = (10, 0)$ and $p_m(0) = (11, 0)$, plot $p_e(t)$ and $p_m(t)$ over the time interval $t ∈ [0, T]$.\n",
    "\n",
    "The moon travels around the earth approximately 13 times every year. With $T = 3π/2$, $ω_e = 1$, and $ω_m = 13$, your plot should resemble the following figure (fix the aspect ratio with `ax.set_aspect(\"equal\")`)."
   ]
  },
  {
   "cell_type": "markdown",
   "metadata": {},
   "source": [
    "### Timing Code\n",
    "\n",
    "The following code is useful for measuring how long it takes for code to run:"
   ]
  },
  {
   "cell_type": "code",
   "execution_count": 5,
   "metadata": {},
   "outputs": [
    {
     "data": {
      "text/plain": [
       "0.2889101505279541"
      ]
     },
     "execution_count": 5,
     "metadata": {},
     "output_type": "execute_result"
    }
   ],
   "source": [
    "import time\n",
    "\n",
    "def for_loop():\n",
    "    \"\"\"Go through ten million iterations of nothing.\"\"\"\n",
    "    for _ in range(int(1e7)):\n",
    "        pass\n",
    "\n",
    "def time_for_loop():\n",
    "    \"\"\"Time for_loop() with time.time().\"\"\"\n",
    "    start = time.time()             # Clock the starting time.\n",
    "    for_loop()\n",
    "    return time.time() - start      # Return the elapsed time.\n",
    "\n",
    "time_for_loop()"
   ]
  },
  {
   "cell_type": "markdown",
   "metadata": {},
   "source": [
    "The `%timeit` command is used in iPython for timing a single line of code."
   ]
  },
  {
   "cell_type": "code",
   "execution_count": 6,
   "metadata": {},
   "outputs": [
    {
     "name": "stdout",
     "output_type": "stream",
     "text": [
      "290 ms ± 10 ms per loop (mean ± std. dev. of 7 runs, 1 loop each)\n"
     ]
    }
   ],
   "source": [
    "%timeit for_loop()"
   ]
  },
  {
   "cell_type": "markdown",
   "metadata": {},
   "source": [
    "#### Timing an Algorithm"
   ]
  },
  {
   "cell_type": "code",
   "execution_count": 7,
   "metadata": {},
   "outputs": [],
   "source": [
    "from random import random\n",
    "\n",
    "def random_vector(n):       # Equivalent to np.random.random(n).tolist()\n",
    "    \"\"\"Generate a random vector of length n as a list.\"\"\"\n",
    "    return [random() for i in range(n)]\n",
    "\n",
    "def random_matrix(n):       # Equivalent to np.random.random((n,n)).tolist()\n",
    "    \"\"\"Generate a random nxn matrix as a list of lists.\"\"\"\n",
    "    return [[random() for j in range(n)] for i in range(n)]"
   ]
  },
  {
   "cell_type": "code",
   "execution_count": 8,
   "metadata": {},
   "outputs": [
    {
     "data": {
      "image/png": "[encoded data removed]",
      "text/plain": [
       "<matplotlib.figure.Figure at 0x113c430f0>"
      ]
     },
     "metadata": {},
     "output_type": "display_data"
    }
   ],
   "source": [
    "domain = 2**np.arange(1,13)\n",
    "times = []\n",
    "for n in domain:\n",
    "    start = time.time()\n",
    "    random_matrix(n)\n",
    "    times.append(time.time() - start)\n",
    "\n",
    "plt.plot(domain, times, 'g.-', linewidth=2, markersize=15)\n",
    "plt.xlabel(\"n\", fontsize=14)\n",
    "plt.ylabel(\"Seconds\", fontsize=14)\n",
    "plt.show()"
   ]
  },
  {
   "cell_type": "markdown",
   "metadata": {},
   "source": [
    "# 2. Linear Systems\n"
   ]
  },
  {
   "cell_type": "code",
   "execution_count": null,
   "metadata": {},
   "outputs": [],
   "source": []
  },
  {
   "cell_type": "markdown",
   "metadata": {},
   "source": [
    "# 3. The QR Decomposition"
   ]
  },
  {
   "cell_type": "markdown",
   "metadata": {},
   "source": [
    "# 4. Least Squares and Computing Eigenvalues"
   ]
  },
  {
   "cell_type": "markdown",
   "metadata": {},
   "source": [
    "# 5. Image Segmentation"
   ]
  },
  {
   "cell_type": "markdown",
   "metadata": {},
   "source": [
    "# 6. The SVD and Image Compression"
   ]
  },
  {
   "cell_type": "markdown",
   "metadata": {},
   "source": [
    "# 7. Facial Recognition"
   ]
  },
  {
   "cell_type": "markdown",
   "metadata": {},
   "source": [
    "# 8. Differentiation"
   ]
  },
  {
   "cell_type": "markdown",
   "metadata": {},
   "source": [
    "# 9. Newton’s Method"
   ]
  },
  {
   "cell_type": "markdown",
   "metadata": {},
   "source": [
    "# 10. Conditioning and Stability"
   ]
  },
  {
   "cell_type": "markdown",
   "metadata": {},
   "source": [
    "# 11. Monte Carlo Integration"
   ]
  },
  {
   "cell_type": "markdown",
   "metadata": {},
   "source": [
    "# 12. Importance Sampling"
   ]
  },
  {
   "cell_type": "markdown",
   "metadata": {},
   "source": [
    "# 13. Visualizing Complex-valued Functions"
   ]
  },
  {
   "cell_type": "markdown",
   "metadata": {},
   "source": [
    "# 14. The PageRank Algorithm"
   ]
  },
  {
   "cell_type": "markdown",
   "metadata": {},
   "source": [
    "# 15. The Drazin Inverse"
   ]
  },
  {
   "cell_type": "markdown",
   "metadata": {},
   "source": [
    "# 16. Iterative Solvers"
   ]
  },
  {
   "cell_type": "markdown",
   "metadata": {},
   "source": [
    "# 17. The Arnoldi Iteration"
   ]
  },
  {
   "cell_type": "markdown",
   "metadata": {},
   "source": [
    "15 \n",
    "16 "
   ]
  },
  {
   "cell_type": "code",
   "execution_count": null,
   "metadata": {},
   "outputs": [],
   "source": []
  }
 ],
 "metadata": {
  "kernelspec": {
   "display_name": "Python 3",
   "language": "python",
   "name": "python3"
  },
  "language_info": {
   "codemirror_mode": {
    "name": "ipython",
    "version": 3
   },
   "file_extension": ".py",
   "mimetype": "text/x-python",
   "name": "python",
   "nbconvert_exporter": "python",
   "pygments_lexer": "ipython3",
   "version": "3.6.4"
  }
 },
 "nbformat": 4,
 "nbformat_minor": 2
}
